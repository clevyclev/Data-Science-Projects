{
 "cells": [
  {
   "cell_type": "markdown",
   "metadata": {
    "collapsed": true
   },
   "source": [
    "In this project we are going to work with housing data for the city of Ames, Iowa, United States from 2006 to 2010.  We will use this data to build several regression models which could be used for predictive analysis on real estate prices.\n",
    "\n",
    "We will start by setting up a pipeline of functions that will let us quickly iterate on different models."
   ]
  },
  {
   "cell_type": "code",
   "execution_count": 1,
   "metadata": {
    "collapsed": false
   },
   "outputs": [],
   "source": [
    "import pandas as pd\n",
    "import matplotlib as plt\n",
    "import numpy as np\n",
    "from sklearn.linear_model import LinearRegression\n",
    "from sklearn.metrics import mean_squared_error"
   ]
  },
  {
   "cell_type": "code",
   "execution_count": 2,
   "metadata": {
    "collapsed": false
   },
   "outputs": [
    {
     "data": {
      "text/html": [
       "<div>\n",
       "<style scoped>\n",
       "    .dataframe tbody tr th:only-of-type {\n",
       "        vertical-align: middle;\n",
       "    }\n",
       "\n",
       "    .dataframe tbody tr th {\n",
       "        vertical-align: top;\n",
       "    }\n",
       "\n",
       "    .dataframe thead th {\n",
       "        text-align: right;\n",
       "    }\n",
       "</style>\n",
       "<table border=\"1\" class=\"dataframe\">\n",
       "  <thead>\n",
       "    <tr style=\"text-align: right;\">\n",
       "      <th></th>\n",
       "      <th>Order</th>\n",
       "      <th>PID</th>\n",
       "      <th>MS SubClass</th>\n",
       "      <th>MS Zoning</th>\n",
       "      <th>Lot Frontage</th>\n",
       "      <th>Lot Area</th>\n",
       "      <th>Street</th>\n",
       "      <th>Alley</th>\n",
       "      <th>Lot Shape</th>\n",
       "      <th>Land Contour</th>\n",
       "      <th>...</th>\n",
       "      <th>Pool Area</th>\n",
       "      <th>Pool QC</th>\n",
       "      <th>Fence</th>\n",
       "      <th>Misc Feature</th>\n",
       "      <th>Misc Val</th>\n",
       "      <th>Mo Sold</th>\n",
       "      <th>Yr Sold</th>\n",
       "      <th>Sale Type</th>\n",
       "      <th>Sale Condition</th>\n",
       "      <th>SalePrice</th>\n",
       "    </tr>\n",
       "  </thead>\n",
       "  <tbody>\n",
       "    <tr>\n",
       "      <th>0</th>\n",
       "      <td>1</td>\n",
       "      <td>526301100</td>\n",
       "      <td>20</td>\n",
       "      <td>RL</td>\n",
       "      <td>141.0</td>\n",
       "      <td>31770</td>\n",
       "      <td>Pave</td>\n",
       "      <td>NaN</td>\n",
       "      <td>IR1</td>\n",
       "      <td>Lvl</td>\n",
       "      <td>...</td>\n",
       "      <td>0</td>\n",
       "      <td>NaN</td>\n",
       "      <td>NaN</td>\n",
       "      <td>NaN</td>\n",
       "      <td>0</td>\n",
       "      <td>5</td>\n",
       "      <td>2010</td>\n",
       "      <td>WD</td>\n",
       "      <td>Normal</td>\n",
       "      <td>215000</td>\n",
       "    </tr>\n",
       "    <tr>\n",
       "      <th>1</th>\n",
       "      <td>2</td>\n",
       "      <td>526350040</td>\n",
       "      <td>20</td>\n",
       "      <td>RH</td>\n",
       "      <td>80.0</td>\n",
       "      <td>11622</td>\n",
       "      <td>Pave</td>\n",
       "      <td>NaN</td>\n",
       "      <td>Reg</td>\n",
       "      <td>Lvl</td>\n",
       "      <td>...</td>\n",
       "      <td>0</td>\n",
       "      <td>NaN</td>\n",
       "      <td>MnPrv</td>\n",
       "      <td>NaN</td>\n",
       "      <td>0</td>\n",
       "      <td>6</td>\n",
       "      <td>2010</td>\n",
       "      <td>WD</td>\n",
       "      <td>Normal</td>\n",
       "      <td>105000</td>\n",
       "    </tr>\n",
       "    <tr>\n",
       "      <th>2</th>\n",
       "      <td>3</td>\n",
       "      <td>526351010</td>\n",
       "      <td>20</td>\n",
       "      <td>RL</td>\n",
       "      <td>81.0</td>\n",
       "      <td>14267</td>\n",
       "      <td>Pave</td>\n",
       "      <td>NaN</td>\n",
       "      <td>IR1</td>\n",
       "      <td>Lvl</td>\n",
       "      <td>...</td>\n",
       "      <td>0</td>\n",
       "      <td>NaN</td>\n",
       "      <td>NaN</td>\n",
       "      <td>Gar2</td>\n",
       "      <td>12500</td>\n",
       "      <td>6</td>\n",
       "      <td>2010</td>\n",
       "      <td>WD</td>\n",
       "      <td>Normal</td>\n",
       "      <td>172000</td>\n",
       "    </tr>\n",
       "    <tr>\n",
       "      <th>3</th>\n",
       "      <td>4</td>\n",
       "      <td>526353030</td>\n",
       "      <td>20</td>\n",
       "      <td>RL</td>\n",
       "      <td>93.0</td>\n",
       "      <td>11160</td>\n",
       "      <td>Pave</td>\n",
       "      <td>NaN</td>\n",
       "      <td>Reg</td>\n",
       "      <td>Lvl</td>\n",
       "      <td>...</td>\n",
       "      <td>0</td>\n",
       "      <td>NaN</td>\n",
       "      <td>NaN</td>\n",
       "      <td>NaN</td>\n",
       "      <td>0</td>\n",
       "      <td>4</td>\n",
       "      <td>2010</td>\n",
       "      <td>WD</td>\n",
       "      <td>Normal</td>\n",
       "      <td>244000</td>\n",
       "    </tr>\n",
       "    <tr>\n",
       "      <th>4</th>\n",
       "      <td>5</td>\n",
       "      <td>527105010</td>\n",
       "      <td>60</td>\n",
       "      <td>RL</td>\n",
       "      <td>74.0</td>\n",
       "      <td>13830</td>\n",
       "      <td>Pave</td>\n",
       "      <td>NaN</td>\n",
       "      <td>IR1</td>\n",
       "      <td>Lvl</td>\n",
       "      <td>...</td>\n",
       "      <td>0</td>\n",
       "      <td>NaN</td>\n",
       "      <td>MnPrv</td>\n",
       "      <td>NaN</td>\n",
       "      <td>0</td>\n",
       "      <td>3</td>\n",
       "      <td>2010</td>\n",
       "      <td>WD</td>\n",
       "      <td>Normal</td>\n",
       "      <td>189900</td>\n",
       "    </tr>\n",
       "  </tbody>\n",
       "</table>\n",
       "<p>5 rows × 82 columns</p>\n",
       "</div>"
      ],
      "text/plain": [
       "   Order        PID  MS SubClass MS Zoning  Lot Frontage  Lot Area Street  \\\n",
       "0      1  526301100           20        RL         141.0     31770   Pave   \n",
       "1      2  526350040           20        RH          80.0     11622   Pave   \n",
       "2      3  526351010           20        RL          81.0     14267   Pave   \n",
       "3      4  526353030           20        RL          93.0     11160   Pave   \n",
       "4      5  527105010           60        RL          74.0     13830   Pave   \n",
       "\n",
       "  Alley Lot Shape Land Contour    ...     Pool Area Pool QC  Fence  \\\n",
       "0   NaN       IR1          Lvl    ...             0     NaN    NaN   \n",
       "1   NaN       Reg          Lvl    ...             0     NaN  MnPrv   \n",
       "2   NaN       IR1          Lvl    ...             0     NaN    NaN   \n",
       "3   NaN       Reg          Lvl    ...             0     NaN    NaN   \n",
       "4   NaN       IR1          Lvl    ...             0     NaN  MnPrv   \n",
       "\n",
       "  Misc Feature Misc Val Mo Sold Yr Sold Sale Type  Sale Condition  SalePrice  \n",
       "0          NaN        0       5    2010       WD           Normal     215000  \n",
       "1          NaN        0       6    2010       WD           Normal     105000  \n",
       "2         Gar2    12500       6    2010       WD           Normal     172000  \n",
       "3          NaN        0       4    2010       WD           Normal     244000  \n",
       "4          NaN        0       3    2010       WD           Normal     189900  \n",
       "\n",
       "[5 rows x 82 columns]"
      ]
     },
     "execution_count": 2,
     "metadata": {},
     "output_type": "execute_result"
    }
   ],
   "source": [
    "real_estate = pd.read_csv('AmesHousing.tsv',delimiter='\\t')\n",
    "real_estate.head()"
   ]
  },
  {
   "cell_type": "markdown",
   "metadata": {},
   "source": [
    "We will define some useful functions for our pipeline early on in the project so that we can add cells to the end of the notebook to do experiments and update the functions in these early cells."
   ]
  },
  {
   "cell_type": "code",
   "execution_count": 40,
   "metadata": {
    "collapsed": false
   },
   "outputs": [],
   "source": [
    "#This function will be our transformation function; it will take in\n",
    "#a data frame along with a desired cutoff value representing a\n",
    "#tolerance for missing values in a column, and keep all columns that\n",
    "#that have less than that percentage of missing values.\n",
    "def transform_features(data, cutoff):\n",
    "    drop_columns = list(data.isnull().sum()[(data.isnull().sum() > len(data)*cutoff)].index)\n",
    "    #We also need to remove any columns that contain data leaks\n",
    "    drop_columns += ['Mo Sold', 'Yr Sold', 'Sale Type', 'Sale Condition',\n",
    "                    'PID','Order']\n",
    "    #We can also start looking to see which columns would be\n",
    "    #unnecessary or superfluous for our model.  This is largely\n",
    "    #subjective as we are not domain experts on real estate.\n",
    "    drop_columns += ['Garage Yr Blt', 'Garage Finish', 'Garage Area',\n",
    "                    'Garage Qual','Garage Cond','Misc Feature','Misc Val']\n",
    "    drop_columns += ['MS SubClass', 'Overall Cond', 'BsmtFin SF 2',\n",
    "                     'Bsmt Half Bath', 'Kitchen AbvGr', 'Enclosed Porch']\n",
    "    transformed_df = data.drop(drop_columns,axis=1)\n",
    "    #Based on testing, so far the column with the lowest number of non-null\n",
    "    #values has about 2700 entries, which is only slightly less\n",
    "    #than the length of our data set, making it a safer bet to \n",
    "    #simply drop those rows.  Let's fill all empty cells in int and\n",
    "    #float columns with those columns' means and then drop everything\n",
    "    #else.\n",
    "    numeric_columns = transformed_df.dtypes[(transformed_df.dtypes == int) | (transformed_df.dtypes == float)].index\n",
    "    for col in numeric_columns:\n",
    "        transformed_df[col] = transformed_df[col].fillna(transformed_df[col].mean())\n",
    "    transformed_df = transformed_df.dropna().reset_index(drop=True)\n",
    "    #Now let's scale our features to enhance model performance\n",
    "    scaling_cols = transformed_df.drop(['SalePrice'],axis=1).dtypes[(transformed_df.dtypes == int) | (transformed_df.dtypes == float)].index\n",
    "    for col in scaling_cols:\n",
    "        transformed_df[col] = (transformed_df[col] - transformed_df[col].min())/(transformed_df[col].max() - transformed_df[col].min())\n",
    "    #Next, we can make a new column dealing with the lack of relevance\n",
    "    #of the columns \"Year Built\" and \"Year Remod/Add\".\n",
    "    #transformed_df['Years_Until_Remod'] = transformed_df['Year Remod/Add'] - transformed_df['Year Built']\n",
    "    transformed_df = transformed_df.drop(['Year Remod/Add','Year Built'],axis=1)\n",
    "    #Getting rid of categorical columns with low variance\n",
    "    cat_cols = transformed_df.select_dtypes(exclude=[int,float]).columns\n",
    "    for col in cat_cols:\n",
    "        if transformed_df[col].value_counts().max() > len(transformed_df)*.9:\n",
    "            del transformed_df[col]\n",
    "    return transformed_df"
   ]
  },
  {
   "cell_type": "code",
   "execution_count": 4,
   "metadata": {
    "collapsed": true
   },
   "outputs": [],
   "source": [
    "#This function will be our feature selection function; it will\n",
    "#return a list of features suitable for model training.\n",
    "def select_features(data, coef=.4):\n",
    "    #Let's update the function so that it takes a value as a minimum\n",
    "    #coefficient to use for feature selection\n",
    "    abs_corr = data.corr()['SalePrice'].abs()\n",
    "    chosen_ones = abs_corr[abs_corr > coef].keys()\n",
    "    return data[chosen_ones]"
   ]
  },
  {
   "cell_type": "code",
   "execution_count": 48,
   "metadata": {
    "collapsed": false
   },
   "outputs": [],
   "source": [
    "#This function will be our splitting, training, and testing pipeline\n",
    "def train_and_test(data,k=0,coef=.4):\n",
    "    if k == 0:\n",
    "        train = data[:1460]\n",
    "        test = data[1460:]\n",
    "        num_train = select_features(train,coef)\n",
    "        train_cols = num_train.drop(['SalePrice']).columns\n",
    "        lr = LinearRegression()\n",
    "        lr.fit(num_train[train_cols], num_train['SalePrice'])\n",
    "        predictions = lr.predict(test[train_cols])\n",
    "        rmse = np.sqrt(mean_squared_error(predictions, test['SalePrice']))\n",
    "        return rmse\n",
    "    elif k > 1: #Perform K-Fold Cross-Validation\n",
    "        folds = k + 1\n",
    "        test_size = int(len(data)/folds)\n",
    "        rmse = 0\n",
    "        final_data = select_features(data,.4)\n",
    "        for k in range(folds):\n",
    "            test_start = k*test_size\n",
    "            test_end = (k+1)*test_size\n",
    "            test = final_data.iloc[test_start:test_end]\n",
    "            train = final_data.drop([x for x in range(test_start,test_end)],axis=0)\n",
    "            chosen_cols = final_data.drop(['SalePrice'],axis=1).columns\n",
    "            lr = LinearRegression()\n",
    "            #Debugging print statements\n",
    "            #print(\"final data: \",final_data.shape)\n",
    "            #print(\"train: \",train.shape)\n",
    "            #print(\"test: \",test.shape)\n",
    "            #print(\"final data chosen cols: \",final_data[chosen_cols].shape)\n",
    "            #print(\"final data sale price: \",final_data['SalePrice'].shape)\n",
    "            #print(\"test chosen cols: \",test[chosen_cols].shape)\n",
    "            #print(\"test sale price: \",test['SalePrice'].shape)\n",
    "            lr.fit(train[chosen_cols], train['SalePrice'])\n",
    "            predictions = lr.predict(test[chosen_cols])\n",
    "            curr_rmse = np.sqrt(mean_squared_error(predictions, test['SalePrice']))\n",
    "            rmse += curr_rmse\n",
    "            print(curr_rmse)\n",
    "        return rmse/folds"
   ]
  },
  {
   "cell_type": "markdown",
   "metadata": {},
   "source": [
    "Here we will test the functions above as we iterate through improving our preprocessing pipeline."
   ]
  },
  {
   "cell_type": "code",
   "execution_count": 41,
   "metadata": {
    "collapsed": false
   },
   "outputs": [
    {
     "data": {
      "text/html": [
       "<div>\n",
       "<style scoped>\n",
       "    .dataframe tbody tr th:only-of-type {\n",
       "        vertical-align: middle;\n",
       "    }\n",
       "\n",
       "    .dataframe tbody tr th {\n",
       "        vertical-align: top;\n",
       "    }\n",
       "\n",
       "    .dataframe thead th {\n",
       "        text-align: right;\n",
       "    }\n",
       "</style>\n",
       "<table border=\"1\" class=\"dataframe\">\n",
       "  <thead>\n",
       "    <tr style=\"text-align: right;\">\n",
       "      <th></th>\n",
       "      <th>MS Zoning</th>\n",
       "      <th>Lot Frontage</th>\n",
       "      <th>Lot Area</th>\n",
       "      <th>Lot Shape</th>\n",
       "      <th>Land Contour</th>\n",
       "      <th>Lot Config</th>\n",
       "      <th>Neighborhood</th>\n",
       "      <th>Condition 1</th>\n",
       "      <th>Bldg Type</th>\n",
       "      <th>House Style</th>\n",
       "      <th>...</th>\n",
       "      <th>TotRms AbvGrd</th>\n",
       "      <th>Fireplaces</th>\n",
       "      <th>Garage Type</th>\n",
       "      <th>Garage Cars</th>\n",
       "      <th>Wood Deck SF</th>\n",
       "      <th>Open Porch SF</th>\n",
       "      <th>3Ssn Porch</th>\n",
       "      <th>Screen Porch</th>\n",
       "      <th>Pool Area</th>\n",
       "      <th>SalePrice</th>\n",
       "    </tr>\n",
       "  </thead>\n",
       "  <tbody>\n",
       "    <tr>\n",
       "      <th>0</th>\n",
       "      <td>RL</td>\n",
       "      <td>0.410959</td>\n",
       "      <td>0.142420</td>\n",
       "      <td>IR1</td>\n",
       "      <td>Lvl</td>\n",
       "      <td>Corner</td>\n",
       "      <td>NAmes</td>\n",
       "      <td>Norm</td>\n",
       "      <td>1Fam</td>\n",
       "      <td>1Story</td>\n",
       "      <td>...</td>\n",
       "      <td>0.333333</td>\n",
       "      <td>0.50</td>\n",
       "      <td>Attchd</td>\n",
       "      <td>0.25</td>\n",
       "      <td>0.147472</td>\n",
       "      <td>0.108772</td>\n",
       "      <td>0.0</td>\n",
       "      <td>0.000000</td>\n",
       "      <td>0.0</td>\n",
       "      <td>215000</td>\n",
       "    </tr>\n",
       "    <tr>\n",
       "      <th>1</th>\n",
       "      <td>RH</td>\n",
       "      <td>0.202055</td>\n",
       "      <td>0.048246</td>\n",
       "      <td>Reg</td>\n",
       "      <td>Lvl</td>\n",
       "      <td>Inside</td>\n",
       "      <td>NAmes</td>\n",
       "      <td>Feedr</td>\n",
       "      <td>1Fam</td>\n",
       "      <td>1Story</td>\n",
       "      <td>...</td>\n",
       "      <td>0.166667</td>\n",
       "      <td>0.00</td>\n",
       "      <td>Attchd</td>\n",
       "      <td>0.00</td>\n",
       "      <td>0.098315</td>\n",
       "      <td>0.000000</td>\n",
       "      <td>0.0</td>\n",
       "      <td>0.208333</td>\n",
       "      <td>0.0</td>\n",
       "      <td>105000</td>\n",
       "    </tr>\n",
       "    <tr>\n",
       "      <th>2</th>\n",
       "      <td>RL</td>\n",
       "      <td>0.205479</td>\n",
       "      <td>0.060609</td>\n",
       "      <td>IR1</td>\n",
       "      <td>Lvl</td>\n",
       "      <td>Corner</td>\n",
       "      <td>NAmes</td>\n",
       "      <td>Norm</td>\n",
       "      <td>1Fam</td>\n",
       "      <td>1Story</td>\n",
       "      <td>...</td>\n",
       "      <td>0.250000</td>\n",
       "      <td>0.00</td>\n",
       "      <td>Attchd</td>\n",
       "      <td>0.00</td>\n",
       "      <td>0.275983</td>\n",
       "      <td>0.063158</td>\n",
       "      <td>0.0</td>\n",
       "      <td>0.000000</td>\n",
       "      <td>0.0</td>\n",
       "      <td>172000</td>\n",
       "    </tr>\n",
       "    <tr>\n",
       "      <th>3</th>\n",
       "      <td>RL</td>\n",
       "      <td>0.246575</td>\n",
       "      <td>0.046087</td>\n",
       "      <td>Reg</td>\n",
       "      <td>Lvl</td>\n",
       "      <td>Corner</td>\n",
       "      <td>NAmes</td>\n",
       "      <td>Norm</td>\n",
       "      <td>1Fam</td>\n",
       "      <td>1Story</td>\n",
       "      <td>...</td>\n",
       "      <td>0.416667</td>\n",
       "      <td>0.50</td>\n",
       "      <td>Attchd</td>\n",
       "      <td>0.25</td>\n",
       "      <td>0.000000</td>\n",
       "      <td>0.000000</td>\n",
       "      <td>0.0</td>\n",
       "      <td>0.000000</td>\n",
       "      <td>0.0</td>\n",
       "      <td>244000</td>\n",
       "    </tr>\n",
       "    <tr>\n",
       "      <th>4</th>\n",
       "      <td>RL</td>\n",
       "      <td>0.181507</td>\n",
       "      <td>0.058566</td>\n",
       "      <td>IR1</td>\n",
       "      <td>Lvl</td>\n",
       "      <td>Inside</td>\n",
       "      <td>Gilbert</td>\n",
       "      <td>Norm</td>\n",
       "      <td>1Fam</td>\n",
       "      <td>2Story</td>\n",
       "      <td>...</td>\n",
       "      <td>0.250000</td>\n",
       "      <td>0.25</td>\n",
       "      <td>Attchd</td>\n",
       "      <td>0.25</td>\n",
       "      <td>0.148876</td>\n",
       "      <td>0.059649</td>\n",
       "      <td>0.0</td>\n",
       "      <td>0.000000</td>\n",
       "      <td>0.0</td>\n",
       "      <td>189900</td>\n",
       "    </tr>\n",
       "    <tr>\n",
       "      <th>5</th>\n",
       "      <td>RL</td>\n",
       "      <td>0.195205</td>\n",
       "      <td>0.040562</td>\n",
       "      <td>IR1</td>\n",
       "      <td>Lvl</td>\n",
       "      <td>Inside</td>\n",
       "      <td>Gilbert</td>\n",
       "      <td>Norm</td>\n",
       "      <td>1Fam</td>\n",
       "      <td>2Story</td>\n",
       "      <td>...</td>\n",
       "      <td>0.333333</td>\n",
       "      <td>0.25</td>\n",
       "      <td>Attchd</td>\n",
       "      <td>0.25</td>\n",
       "      <td>0.252809</td>\n",
       "      <td>0.063158</td>\n",
       "      <td>0.0</td>\n",
       "      <td>0.000000</td>\n",
       "      <td>0.0</td>\n",
       "      <td>195500</td>\n",
       "    </tr>\n",
       "    <tr>\n",
       "      <th>6</th>\n",
       "      <td>RL</td>\n",
       "      <td>0.068493</td>\n",
       "      <td>0.016920</td>\n",
       "      <td>Reg</td>\n",
       "      <td>Lvl</td>\n",
       "      <td>Inside</td>\n",
       "      <td>StoneBr</td>\n",
       "      <td>Norm</td>\n",
       "      <td>TwnhsE</td>\n",
       "      <td>1Story</td>\n",
       "      <td>...</td>\n",
       "      <td>0.250000</td>\n",
       "      <td>0.00</td>\n",
       "      <td>Attchd</td>\n",
       "      <td>0.25</td>\n",
       "      <td>0.000000</td>\n",
       "      <td>0.000000</td>\n",
       "      <td>0.0</td>\n",
       "      <td>0.000000</td>\n",
       "      <td>0.0</td>\n",
       "      <td>213500</td>\n",
       "    </tr>\n",
       "    <tr>\n",
       "      <th>7</th>\n",
       "      <td>RL</td>\n",
       "      <td>0.075342</td>\n",
       "      <td>0.017318</td>\n",
       "      <td>IR1</td>\n",
       "      <td>HLS</td>\n",
       "      <td>Inside</td>\n",
       "      <td>StoneBr</td>\n",
       "      <td>Norm</td>\n",
       "      <td>TwnhsE</td>\n",
       "      <td>1Story</td>\n",
       "      <td>...</td>\n",
       "      <td>0.166667</td>\n",
       "      <td>0.00</td>\n",
       "      <td>Attchd</td>\n",
       "      <td>0.25</td>\n",
       "      <td>0.000000</td>\n",
       "      <td>0.143860</td>\n",
       "      <td>0.0</td>\n",
       "      <td>0.250000</td>\n",
       "      <td>0.0</td>\n",
       "      <td>191500</td>\n",
       "    </tr>\n",
       "    <tr>\n",
       "      <th>8</th>\n",
       "      <td>RL</td>\n",
       "      <td>0.061644</td>\n",
       "      <td>0.019112</td>\n",
       "      <td>IR1</td>\n",
       "      <td>Lvl</td>\n",
       "      <td>Inside</td>\n",
       "      <td>StoneBr</td>\n",
       "      <td>Norm</td>\n",
       "      <td>TwnhsE</td>\n",
       "      <td>1Story</td>\n",
       "      <td>...</td>\n",
       "      <td>0.166667</td>\n",
       "      <td>0.25</td>\n",
       "      <td>Attchd</td>\n",
       "      <td>0.25</td>\n",
       "      <td>0.166433</td>\n",
       "      <td>0.266667</td>\n",
       "      <td>0.0</td>\n",
       "      <td>0.000000</td>\n",
       "      <td>0.0</td>\n",
       "      <td>236500</td>\n",
       "    </tr>\n",
       "    <tr>\n",
       "      <th>9</th>\n",
       "      <td>RL</td>\n",
       "      <td>0.133562</td>\n",
       "      <td>0.028979</td>\n",
       "      <td>Reg</td>\n",
       "      <td>Lvl</td>\n",
       "      <td>Inside</td>\n",
       "      <td>Gilbert</td>\n",
       "      <td>Norm</td>\n",
       "      <td>1Fam</td>\n",
       "      <td>2Story</td>\n",
       "      <td>...</td>\n",
       "      <td>0.333333</td>\n",
       "      <td>0.25</td>\n",
       "      <td>Attchd</td>\n",
       "      <td>0.25</td>\n",
       "      <td>0.098315</td>\n",
       "      <td>0.105263</td>\n",
       "      <td>0.0</td>\n",
       "      <td>0.000000</td>\n",
       "      <td>0.0</td>\n",
       "      <td>189000</td>\n",
       "    </tr>\n",
       "  </tbody>\n",
       "</table>\n",
       "<p>10 rows × 46 columns</p>\n",
       "</div>"
      ],
      "text/plain": [
       "  MS Zoning  Lot Frontage  Lot Area Lot Shape Land Contour Lot Config  \\\n",
       "0        RL      0.410959  0.142420       IR1          Lvl     Corner   \n",
       "1        RH      0.202055  0.048246       Reg          Lvl     Inside   \n",
       "2        RL      0.205479  0.060609       IR1          Lvl     Corner   \n",
       "3        RL      0.246575  0.046087       Reg          Lvl     Corner   \n",
       "4        RL      0.181507  0.058566       IR1          Lvl     Inside   \n",
       "5        RL      0.195205  0.040562       IR1          Lvl     Inside   \n",
       "6        RL      0.068493  0.016920       Reg          Lvl     Inside   \n",
       "7        RL      0.075342  0.017318       IR1          HLS     Inside   \n",
       "8        RL      0.061644  0.019112       IR1          Lvl     Inside   \n",
       "9        RL      0.133562  0.028979       Reg          Lvl     Inside   \n",
       "\n",
       "  Neighborhood Condition 1 Bldg Type House Style    ...     TotRms AbvGrd  \\\n",
       "0        NAmes        Norm      1Fam      1Story    ...          0.333333   \n",
       "1        NAmes       Feedr      1Fam      1Story    ...          0.166667   \n",
       "2        NAmes        Norm      1Fam      1Story    ...          0.250000   \n",
       "3        NAmes        Norm      1Fam      1Story    ...          0.416667   \n",
       "4      Gilbert        Norm      1Fam      2Story    ...          0.250000   \n",
       "5      Gilbert        Norm      1Fam      2Story    ...          0.333333   \n",
       "6      StoneBr        Norm    TwnhsE      1Story    ...          0.250000   \n",
       "7      StoneBr        Norm    TwnhsE      1Story    ...          0.166667   \n",
       "8      StoneBr        Norm    TwnhsE      1Story    ...          0.166667   \n",
       "9      Gilbert        Norm      1Fam      2Story    ...          0.333333   \n",
       "\n",
       "  Fireplaces Garage Type Garage Cars Wood Deck SF  Open Porch SF 3Ssn Porch  \\\n",
       "0       0.50      Attchd        0.25     0.147472       0.108772        0.0   \n",
       "1       0.00      Attchd        0.00     0.098315       0.000000        0.0   \n",
       "2       0.00      Attchd        0.00     0.275983       0.063158        0.0   \n",
       "3       0.50      Attchd        0.25     0.000000       0.000000        0.0   \n",
       "4       0.25      Attchd        0.25     0.148876       0.059649        0.0   \n",
       "5       0.25      Attchd        0.25     0.252809       0.063158        0.0   \n",
       "6       0.00      Attchd        0.25     0.000000       0.000000        0.0   \n",
       "7       0.00      Attchd        0.25     0.000000       0.143860        0.0   \n",
       "8       0.25      Attchd        0.25     0.166433       0.266667        0.0   \n",
       "9       0.25      Attchd        0.25     0.098315       0.105263        0.0   \n",
       "\n",
       "  Screen Porch Pool Area SalePrice  \n",
       "0     0.000000       0.0    215000  \n",
       "1     0.208333       0.0    105000  \n",
       "2     0.000000       0.0    172000  \n",
       "3     0.000000       0.0    244000  \n",
       "4     0.000000       0.0    189900  \n",
       "5     0.000000       0.0    195500  \n",
       "6     0.000000       0.0    213500  \n",
       "7     0.250000       0.0    191500  \n",
       "8     0.000000       0.0    236500  \n",
       "9     0.000000       0.0    189000  \n",
       "\n",
       "[10 rows x 46 columns]"
      ]
     },
     "execution_count": 41,
     "metadata": {},
     "output_type": "execute_result"
    }
   ],
   "source": [
    "tf_real_estate = transform_features(real_estate,.25)\n",
    "tf_real_estate.head(10)"
   ]
  },
  {
   "cell_type": "code",
   "execution_count": 7,
   "metadata": {
    "collapsed": false
   },
   "outputs": [
    {
     "name": "stdout",
     "output_type": "stream",
     "text": [
      "<class 'pandas.core.frame.DataFrame'>\n",
      "RangeIndex: 2680 entries, 0 to 2679\n",
      "Data columns (total 46 columns):\n",
      "MS Zoning          2680 non-null object\n",
      "Lot Frontage       2680 non-null float64\n",
      "Lot Area           2680 non-null int64\n",
      "Lot Shape          2680 non-null object\n",
      "Land Contour       2680 non-null object\n",
      "Lot Config         2680 non-null object\n",
      "Neighborhood       2680 non-null object\n",
      "Condition 1        2680 non-null object\n",
      "Bldg Type          2680 non-null object\n",
      "House Style        2680 non-null object\n",
      "Overall Qual       2680 non-null int64\n",
      "Roof Style         2680 non-null object\n",
      "Exterior 1st       2680 non-null object\n",
      "Exterior 2nd       2680 non-null object\n",
      "Mas Vnr Type       2680 non-null object\n",
      "Mas Vnr Area       2680 non-null float64\n",
      "Exter Qual         2680 non-null object\n",
      "Exter Cond         2680 non-null object\n",
      "Foundation         2680 non-null object\n",
      "Bsmt Qual          2680 non-null object\n",
      "Bsmt Exposure      2680 non-null object\n",
      "BsmtFin Type 1     2680 non-null object\n",
      "BsmtFin SF 1       2680 non-null float64\n",
      "BsmtFin Type 2     2680 non-null object\n",
      "Bsmt Unf SF        2680 non-null float64\n",
      "Total Bsmt SF      2680 non-null float64\n",
      "Heating QC         2680 non-null object\n",
      "1st Flr SF         2680 non-null int64\n",
      "2nd Flr SF         2680 non-null int64\n",
      "Low Qual Fin SF    2680 non-null int64\n",
      "Gr Liv Area        2680 non-null int64\n",
      "Bsmt Full Bath     2680 non-null float64\n",
      "Full Bath          2680 non-null int64\n",
      "Half Bath          2680 non-null int64\n",
      "Bedroom AbvGr      2680 non-null int64\n",
      "Kitchen Qual       2680 non-null object\n",
      "TotRms AbvGrd      2680 non-null int64\n",
      "Fireplaces         2680 non-null int64\n",
      "Garage Type        2680 non-null object\n",
      "Garage Cars        2680 non-null float64\n",
      "Wood Deck SF       2680 non-null int64\n",
      "Open Porch SF      2680 non-null int64\n",
      "3Ssn Porch         2680 non-null int64\n",
      "Screen Porch       2680 non-null int64\n",
      "Pool Area          2680 non-null int64\n",
      "SalePrice          2680 non-null int64\n",
      "dtypes: float64(7), int64(17), object(22)\n",
      "memory usage: 963.2+ KB\n"
     ]
    }
   ],
   "source": [
    "tf_real_estate.info()"
   ]
  },
  {
   "cell_type": "code",
   "execution_count": 34,
   "metadata": {
    "collapsed": false
   },
   "outputs": [
    {
     "data": {
      "text/plain": [
       "2259"
      ]
     },
     "execution_count": 34,
     "metadata": {},
     "output_type": "execute_result"
    }
   ],
   "source": [
    "tf_real_estate['Bldg Type'].value_counts().max()"
   ]
  },
  {
   "cell_type": "markdown",
   "metadata": {},
   "source": [
    "We now have a very clean data set that still contains enough of the original entries to make for reliable training data.  We can now start engineering features."
   ]
  },
  {
   "cell_type": "code",
   "execution_count": 9,
   "metadata": {
    "collapsed": false
   },
   "outputs": [
    {
     "data": {
      "text/plain": [
       "MS Zoning           object\n",
       "Lot Frontage       float64\n",
       "Lot Area             int64\n",
       "Lot Shape           object\n",
       "Land Contour        object\n",
       "Lot Config          object\n",
       "Neighborhood        object\n",
       "Condition 1         object\n",
       "Bldg Type           object\n",
       "House Style         object\n",
       "Overall Qual         int64\n",
       "Roof Style          object\n",
       "Exterior 1st        object\n",
       "Exterior 2nd        object\n",
       "Mas Vnr Type        object\n",
       "Mas Vnr Area       float64\n",
       "Exter Qual          object\n",
       "Exter Cond          object\n",
       "Foundation          object\n",
       "Bsmt Qual           object\n",
       "Bsmt Exposure       object\n",
       "BsmtFin Type 1      object\n",
       "BsmtFin SF 1       float64\n",
       "BsmtFin Type 2      object\n",
       "Bsmt Unf SF        float64\n",
       "Total Bsmt SF      float64\n",
       "Heating QC          object\n",
       "1st Flr SF           int64\n",
       "2nd Flr SF           int64\n",
       "Low Qual Fin SF      int64\n",
       "Gr Liv Area          int64\n",
       "Bsmt Full Bath     float64\n",
       "Full Bath            int64\n",
       "Half Bath            int64\n",
       "Bedroom AbvGr        int64\n",
       "Kitchen Qual        object\n",
       "TotRms AbvGrd        int64\n",
       "Fireplaces           int64\n",
       "Garage Type         object\n",
       "Garage Cars        float64\n",
       "Wood Deck SF         int64\n",
       "Open Porch SF        int64\n",
       "3Ssn Porch           int64\n",
       "Screen Porch         int64\n",
       "Pool Area            int64\n",
       "SalePrice            int64\n",
       "dtype: object"
      ]
     },
     "execution_count": 9,
     "metadata": {},
     "output_type": "execute_result"
    }
   ],
   "source": [
    "tf_real_estate.dtypes"
   ]
  },
  {
   "cell_type": "markdown",
   "metadata": {
    "collapsed": true
   },
   "source": [
    "Let's create a heatmap of the correlations to see which continuous features correlate strongly with SalePrice and which ones are worth getting rid of."
   ]
  },
  {
   "cell_type": "code",
   "execution_count": 20,
   "metadata": {
    "collapsed": false
   },
   "outputs": [
    {
     "data": {
      "text/plain": [
       "<matplotlib.axes._subplots.AxesSubplot at 0x7f9ac60bb4a8>"
      ]
     },
     "execution_count": 20,
     "metadata": {},
     "output_type": "execute_result"
    },
    {
     "data": {
      "image/png": "[encoded data removed]",
      "text/plain": [
       "<matplotlib.figure.Figure at 0x7f9ac60d4e80>"
      ]
     },
     "metadata": {},
     "output_type": "display_data"
    }
   ],
   "source": [
    "import seaborn as sns\n",
    "%matplotlib inline\n",
    "numeric_columns = tf_real_estate.dtypes[(tf_real_estate.dtypes == int) | (tf_real_estate.dtypes == float)].index\n",
    "sns.heatmap(tf_real_estate[numeric_columns].corr())"
   ]
  },
  {
   "cell_type": "markdown",
   "metadata": {},
   "source": [
    "It looks like the following are high-correlate pairs:\n",
    "(Total Basement Square Feet, 1st Floor Living Area),\n",
    "(Total Rooms Above Grade, Gr Living Area)\n",
    "\n",
    "At a minimum, we should remove one from each of these pairs so as to keep our model clean from noise.  In addition, we have some more candidates for features worth dropping due to their low correlation with SalePrice, such as MS Subclass, Overall Cond, BsmtFin SF 2, Bsmt Half Bath, Kitchen AbvGr, Enclosed Porch, and even our newly added Years_Until_Remod.  We can update our transform_features function above with this new information.\n",
    "\n",
    "Now we can start dealing with our categorical features.  All categorical variables are candidates for conversion to numerical ones, but first we should consider the expansion of our data fram categorical variables with many potential values would cause.  Furthermore, columns where over 90% of the entries are the same value will provide only low-variance data to our model.  Let's update our transformation function to get rid of those columns."
   ]
  },
  {
   "cell_type": "code",
   "execution_count": 10,
   "metadata": {
    "collapsed": false
   },
   "outputs": [],
   "source": [
    "cat_cols = tf_real_estate.select_dtypes(exclude=[int,float]).columns\n",
    "for col in cat_cols:   \n",
    "    tf_real_estate[col] = tf_real_estate[col].astype('category')\n",
    "    dummy_cols = pd.get_dummies(tf_real_estate[col])\n",
    "    tf_real_estate = pd.concat([tf_real_estate,dummy_cols],axis=1)\n",
    "    del tf_real_estate[col]"
   ]
  },
  {
   "cell_type": "code",
   "execution_count": 11,
   "metadata": {
    "collapsed": false
   },
   "outputs": [
    {
     "name": "stdout",
     "output_type": "stream",
     "text": [
      "<class 'pandas.core.frame.DataFrame'>\n",
      "RangeIndex: 2680 entries, 0 to 2679\n",
      "Columns: 185 entries, Lot Frontage to Detchd\n",
      "dtypes: float64(7), int64(17), uint8(161)\n",
      "memory usage: 923.9 KB\n"
     ]
    }
   ],
   "source": [
    "tf_real_estate.info()"
   ]
  },
  {
   "cell_type": "markdown",
   "metadata": {
    "collapsed": true
   },
   "source": [
    "Let's look at the correlation coefficients for SalePrice to ascertain which columns we would like to use in our training."
   ]
  },
  {
   "cell_type": "code",
   "execution_count": 42,
   "metadata": {
    "collapsed": false
   },
   "outputs": [
    {
     "data": {
      "text/plain": [
       "Low Qual Fin SF    0.028466\n",
       "3Ssn Porch         0.030729\n",
       "Pool Area          0.074464\n",
       "Screen Porch       0.105308\n",
       "Bedroom AbvGr      0.148856\n",
       "Bsmt Unf SF        0.162316\n",
       "Lot Area           0.261880\n",
       "Bsmt Full Bath     0.263208\n",
       "2nd Flr SF         0.264577\n",
       "Half Bath          0.269236\n",
       "Wood Deck SF       0.309380\n",
       "Open Porch SF      0.317593\n",
       "Lot Frontage       0.346531\n",
       "BsmtFin SF 1       0.412915\n",
       "Fireplaces         0.452613\n",
       "Mas Vnr Area       0.499729\n",
       "TotRms AbvGrd      0.523151\n",
       "Full Bath          0.555480\n",
       "Total Bsmt SF      0.630264\n",
       "1st Flr SF         0.630419\n",
       "Garage Cars        0.652383\n",
       "Gr Liv Area        0.715441\n",
       "Overall Qual       0.793249\n",
       "SalePrice          1.000000\n",
       "Name: SalePrice, dtype: float64"
      ]
     },
     "execution_count": 42,
     "metadata": {},
     "output_type": "execute_result"
    }
   ],
   "source": [
    "tf_real_estate.corr()['SalePrice'].abs().sort_values()"
   ]
  },
  {
   "cell_type": "markdown",
   "metadata": {},
   "source": [
    "We can use this information to update our select_features() function.  Let's craft it so that the minimum coefficient is a hyperparameter.  For the purposes of this project, though, let's decide on .4 as a minimum coefficient to keep for training."
   ]
  },
  {
   "cell_type": "code",
   "execution_count": 43,
   "metadata": {
    "collapsed": false
   },
   "outputs": [
    {
     "data": {
      "text/html": [
       "<div>\n",
       "<style scoped>\n",
       "    .dataframe tbody tr th:only-of-type {\n",
       "        vertical-align: middle;\n",
       "    }\n",
       "\n",
       "    .dataframe tbody tr th {\n",
       "        vertical-align: top;\n",
       "    }\n",
       "\n",
       "    .dataframe thead th {\n",
       "        text-align: right;\n",
       "    }\n",
       "</style>\n",
       "<table border=\"1\" class=\"dataframe\">\n",
       "  <thead>\n",
       "    <tr style=\"text-align: right;\">\n",
       "      <th></th>\n",
       "      <th>Overall Qual</th>\n",
       "      <th>Mas Vnr Area</th>\n",
       "      <th>BsmtFin SF 1</th>\n",
       "      <th>Total Bsmt SF</th>\n",
       "      <th>1st Flr SF</th>\n",
       "      <th>Gr Liv Area</th>\n",
       "      <th>Full Bath</th>\n",
       "      <th>TotRms AbvGrd</th>\n",
       "      <th>Fireplaces</th>\n",
       "      <th>Garage Cars</th>\n",
       "      <th>SalePrice</th>\n",
       "    </tr>\n",
       "  </thead>\n",
       "  <tbody>\n",
       "    <tr>\n",
       "      <th>0</th>\n",
       "      <td>0.500</td>\n",
       "      <td>0.0700</td>\n",
       "      <td>0.113218</td>\n",
       "      <td>0.162365</td>\n",
       "      <td>0.266425</td>\n",
       "      <td>0.238586</td>\n",
       "      <td>0.25</td>\n",
       "      <td>0.333333</td>\n",
       "      <td>0.50</td>\n",
       "      <td>0.25</td>\n",
       "      <td>215000</td>\n",
       "    </tr>\n",
       "    <tr>\n",
       "      <th>1</th>\n",
       "      <td>0.375</td>\n",
       "      <td>0.0000</td>\n",
       "      <td>0.082920</td>\n",
       "      <td>0.129392</td>\n",
       "      <td>0.104309</td>\n",
       "      <td>0.093410</td>\n",
       "      <td>0.25</td>\n",
       "      <td>0.166667</td>\n",
       "      <td>0.00</td>\n",
       "      <td>0.00</td>\n",
       "      <td>105000</td>\n",
       "    </tr>\n",
       "    <tr>\n",
       "      <th>2</th>\n",
       "      <td>0.500</td>\n",
       "      <td>0.0675</td>\n",
       "      <td>0.163536</td>\n",
       "      <td>0.203830</td>\n",
       "      <td>0.196672</td>\n",
       "      <td>0.176122</td>\n",
       "      <td>0.25</td>\n",
       "      <td>0.250000</td>\n",
       "      <td>0.00</td>\n",
       "      <td>0.00</td>\n",
       "      <td>172000</td>\n",
       "    </tr>\n",
       "    <tr>\n",
       "      <th>3</th>\n",
       "      <td>0.625</td>\n",
       "      <td>0.0000</td>\n",
       "      <td>0.188696</td>\n",
       "      <td>0.333888</td>\n",
       "      <td>0.363268</td>\n",
       "      <td>0.325310</td>\n",
       "      <td>0.50</td>\n",
       "      <td>0.416667</td>\n",
       "      <td>0.50</td>\n",
       "      <td>0.25</td>\n",
       "      <td>244000</td>\n",
       "    </tr>\n",
       "    <tr>\n",
       "      <th>4</th>\n",
       "      <td>0.375</td>\n",
       "      <td>0.0000</td>\n",
       "      <td>0.140149</td>\n",
       "      <td>0.137052</td>\n",
       "      <td>0.111135</td>\n",
       "      <td>0.233429</td>\n",
       "      <td>0.50</td>\n",
       "      <td>0.250000</td>\n",
       "      <td>0.25</td>\n",
       "      <td>0.25</td>\n",
       "      <td>189900</td>\n",
       "    </tr>\n",
       "  </tbody>\n",
       "</table>\n",
       "</div>"
      ],
      "text/plain": [
       "   Overall Qual  Mas Vnr Area  BsmtFin SF 1  Total Bsmt SF  1st Flr SF  \\\n",
       "0         0.500        0.0700      0.113218       0.162365    0.266425   \n",
       "1         0.375        0.0000      0.082920       0.129392    0.104309   \n",
       "2         0.500        0.0675      0.163536       0.203830    0.196672   \n",
       "3         0.625        0.0000      0.188696       0.333888    0.363268   \n",
       "4         0.375        0.0000      0.140149       0.137052    0.111135   \n",
       "\n",
       "   Gr Liv Area  Full Bath  TotRms AbvGrd  Fireplaces  Garage Cars  SalePrice  \n",
       "0     0.238586       0.25       0.333333        0.50         0.25     215000  \n",
       "1     0.093410       0.25       0.166667        0.00         0.00     105000  \n",
       "2     0.176122       0.25       0.250000        0.00         0.00     172000  \n",
       "3     0.325310       0.50       0.416667        0.50         0.25     244000  \n",
       "4     0.233429       0.50       0.250000        0.25         0.25     189900  "
      ]
     },
     "execution_count": 43,
     "metadata": {},
     "output_type": "execute_result"
    }
   ],
   "source": [
    "final_data = select_features(tf_real_estate,.4)\n",
    "final_data.head()"
   ]
  },
  {
   "cell_type": "markdown",
   "metadata": {},
   "source": [
    "Now for the final part of the pipeline, training and testing. When iterating on different features, using simple validation is a good idea. Let's add to our train_and_test() function a parameter named k that controls what type of cross validation occurs.  Since the function also contains the select_features(), which takes an optional value as a minimum coefficient, e will also update train_and_test() so that it too will take that optional value and pass it to select_features(). We will test our final train_and_test() function below."
   ]
  },
  {
   "cell_type": "code",
   "execution_count": 22,
   "metadata": {
    "collapsed": false
   },
   "outputs": [
    {
     "name": "stdout",
     "output_type": "stream",
     "text": [
      "final data:  (2680, 57)\n",
      "train:  (2010, 57)\n",
      "test:  (670, 57)\n",
      "final data chosen cols:  (2680, 678)\n",
      "final data sale price:  (2680,)\n",
      "test chosen cols:  (670, 678)\n",
      "test sale price:  (670,)\n",
      "final data:  (2680, 57)\n",
      "train:  (2010, 57)\n",
      "test:  (670, 57)\n",
      "final data chosen cols:  (2680, 678)\n",
      "final data sale price:  (2680,)\n",
      "test chosen cols:  (670, 678)\n",
      "test sale price:  (670,)\n",
      "final data:  (2680, 57)\n",
      "train:  (2010, 57)\n",
      "test:  (670, 57)\n",
      "final data chosen cols:  (2680, 678)\n",
      "final data sale price:  (2680,)\n",
      "test chosen cols:  (670, 678)\n",
      "test sale price:  (670,)\n",
      "final data:  (2680, 57)\n",
      "train:  (2010, 57)\n",
      "test:  (670, 57)\n",
      "final data chosen cols:  (2680, 678)\n",
      "final data sale price:  (2680,)\n",
      "test chosen cols:  (670, 678)\n",
      "test sale price:  (670,)\n"
     ]
    },
    {
     "data": {
      "text/plain": [
       "32926.885317864784"
      ]
     },
     "execution_count": 22,
     "metadata": {},
     "output_type": "execute_result"
    }
   ],
   "source": [
    "final_rmse = train_and_test(tf_real_estate,3,.4)\n",
    "final_rmse"
   ]
  },
  {
   "cell_type": "markdown",
   "metadata": {
    "collapsed": true
   },
   "source": [
    "In this test run with a minimum coefficient of .4 and a k-value of 3, our RMSE was almost 33,000.  Let's run our train_and_test() a few more times with different parameters and without the debugging print statements."
   ]
  },
  {
   "cell_type": "code",
   "execution_count": 24,
   "metadata": {
    "collapsed": false
   },
   "outputs": [
    {
     "data": {
      "text/plain": [
       "32036.49199949774"
      ]
     },
     "execution_count": 24,
     "metadata": {},
     "output_type": "execute_result"
    }
   ],
   "source": [
    "final_rmse = train_and_test(tf_real_estate,5,.4)\n",
    "final_rmse"
   ]
  },
  {
   "cell_type": "markdown",
   "metadata": {},
   "source": [
    "By increasing our k-value by 2, we have decreased our RMSE by about 3,000.  Let's add some verbosity to our train_and_test so that we can see each RMSE value as it trains, and then run it again."
   ]
  },
  {
   "cell_type": "code",
   "execution_count": 26,
   "metadata": {
    "collapsed": false
   },
   "outputs": [
    {
     "name": "stdout",
     "output_type": "stream",
     "text": [
      "27755.516738159164\n",
      "31357.352424922257\n",
      "26329.442939080644\n",
      "24955.145433241607\n",
      "42311.48572981938\n",
      "38757.863770877564\n",
      "45565.72331686585\n",
      "31771.329051348726\n",
      "25868.629574104685\n"
     ]
    },
    {
     "data": {
      "text/plain": [
       "32741.387664268874"
      ]
     },
     "execution_count": 26,
     "metadata": {},
     "output_type": "execute_result"
    }
   ],
   "source": [
    "final_rmse = train_and_test(tf_real_estate,8,.4)\n",
    "final_rmse"
   ]
  },
  {
   "cell_type": "markdown",
   "metadata": {},
   "source": [
    "It looks like we have a lot of variance in our RMSEs, which is a sign of overfitting.  Let's try increasing our minimum coefficient."
   ]
  },
  {
   "cell_type": "code",
   "execution_count": 27,
   "metadata": {
    "collapsed": false
   },
   "outputs": [
    {
     "name": "stdout",
     "output_type": "stream",
     "text": [
      "31533.88720387897\n",
      "26144.879845388925\n",
      "24328.75476657506\n",
      "42495.72546376523\n",
      "40477.91264810694\n",
      "27237.792069271298\n"
     ]
    },
    {
     "data": {
      "text/plain": [
       "32036.49199949774"
      ]
     },
     "execution_count": 27,
     "metadata": {},
     "output_type": "execute_result"
    }
   ],
   "source": [
    "final_rmse = train_and_test(tf_real_estate,5,.6)\n",
    "final_rmse"
   ]
  },
  {
   "cell_type": "code",
   "execution_count": 28,
   "metadata": {
    "collapsed": false
   },
   "outputs": [
    {
     "name": "stdout",
     "output_type": "stream",
     "text": [
      "27755.516738159164\n",
      "31357.352424922257\n",
      "26329.442939080644\n",
      "24955.145433241607\n",
      "42311.48572981938\n",
      "38757.863770877564\n",
      "45565.72331686585\n",
      "31771.329051348726\n",
      "25868.629574104685\n"
     ]
    },
    {
     "data": {
      "text/plain": [
       "32741.387664268874"
      ]
     },
     "execution_count": 28,
     "metadata": {},
     "output_type": "execute_result"
    }
   ],
   "source": [
    "final_rmse = train_and_test(tf_real_estate,8,.7)\n",
    "final_rmse"
   ]
  },
  {
   "cell_type": "markdown",
   "metadata": {},
   "source": [
    "We also have not normalized our data set yet.  Let's add min-max normalization to transform_df() and see if that has an effect on our model's performance."
   ]
  },
  {
   "cell_type": "code",
   "execution_count": 44,
   "metadata": {
    "collapsed": false
   },
   "outputs": [
    {
     "name": "stdout",
     "output_type": "stream",
     "text": [
      "37498.966155713715\n",
      "28368.32727067672\n",
      "30509.76591460875\n",
      "45717.03784916207\n",
      "43886.53181632384\n",
      "31137.026641389024\n"
     ]
    },
    {
     "data": {
      "text/plain": [
       "36186.27594131236"
      ]
     },
     "execution_count": 44,
     "metadata": {},
     "output_type": "execute_result"
    }
   ],
   "source": [
    "final_rmse = train_and_test(tf_real_estate,5,.4)\n",
    "final_rmse"
   ]
  },
  {
   "cell_type": "code",
   "execution_count": 45,
   "metadata": {
    "collapsed": false
   },
   "outputs": [
    {
     "name": "stdout",
     "output_type": "stream",
     "text": [
      "31624.545670439384\n",
      "37886.680413249895\n",
      "27898.542552670333\n",
      "31542.460417735245\n",
      "46293.01227092007\n",
      "42071.575571501526\n",
      "47677.1617004019\n",
      "36478.80826628991\n",
      "30444.374545234572\n"
     ]
    },
    {
     "data": {
      "text/plain": [
       "36879.68460093809"
      ]
     },
     "execution_count": 45,
     "metadata": {},
     "output_type": "execute_result"
    }
   ],
   "source": [
    "final_rmse = train_and_test(tf_real_estate,8,.7)\n",
    "final_rmse"
   ]
  },
  {
   "cell_type": "code",
   "execution_count": 47,
   "metadata": {
    "collapsed": false
   },
   "outputs": [
    {
     "name": "stdout",
     "output_type": "stream",
     "text": [
      "36304.023173510795\n",
      "26113.488534603854\n",
      "32977.819552438574\n",
      "44671.28258546248\n",
      "30578.49460799933\n",
      "27438.973841340103\n",
      "27012.161123369613\n",
      "34698.21582999079\n",
      "31165.96190758213\n",
      "26340.188544072902\n",
      "62007.24757745803\n",
      "37919.03838291878\n",
      "50501.50807024306\n",
      "25008.370970430133\n",
      "29648.74242796142\n",
      "63365.81108117608\n",
      "42255.2840214056\n",
      "34385.48683302818\n",
      "27694.501956269793\n",
      "29911.659544156577\n",
      "30005.54236809719\n"
     ]
    },
    {
     "data": {
      "text/plain": [
       "35714.46680635789"
      ]
     },
     "execution_count": 47,
     "metadata": {},
     "output_type": "execute_result"
    }
   ],
   "source": [
    "final_rmse = train_and_test(tf_real_estate,20,.6)\n",
    "final_rmse"
   ]
  },
  {
   "cell_type": "markdown",
   "metadata": {},
   "source": [
    "There are three major takeaways from this project:\n",
    "\n",
    "1) Without finding a way to efficiently and accurately capture relevant categorical features, it becomes very difficult to reduce the RMSE and thus improve our model's performance.\n",
    "\n",
    "2) We also have very little training data to work with; even before we dropped about 20% of our entries, we still had barely 3,000 individual sales that we could teach our model with.  The two biggest limiting factors behind model performance regardless of how well tuned it is are dirty data and scarce data.\n",
    "\n",
    "3) Upon scaling down our features, our model's training speed increased by SEVERAL FOLD.  This is one more reason, even beyond improving model accuracy, it is always a good idea to normalize and scale features."
   ]
  },
  {
   "cell_type": "code",
   "execution_count": null,
   "metadata": {
    "collapsed": true
   },
   "outputs": [],
   "source": []
  }
 ],
 "metadata": {
  "anaconda-cloud": {},
  "kernelspec": {
   "display_name": "Python 3",
   "language": "python",
   "name": "python3"
  },
  "language_info": {
   "codemirror_mode": {
    "name": "ipython",
    "version": 3
   },
   "file_extension": ".py",
   "mimetype": "text/x-python",
   "name": "python",
   "nbconvert_exporter": "python",
   "pygments_lexer": "ipython3",
   "version": "3.4.3"
  }
 },
 "nbformat": 4,
 "nbformat_minor": 2
}
