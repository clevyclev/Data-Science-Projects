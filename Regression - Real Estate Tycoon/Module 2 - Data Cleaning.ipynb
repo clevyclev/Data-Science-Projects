{
 "cells": [
  {
   "cell_type": "markdown",
   "metadata": {},
   "source": [
    "<h1 style=\"font-size:42px; text-align:center; margin-bottom:30px;\"><span style=\"color:SteelBlue\">Module 2\n",
    ":</span> Data Cleaning</h1>\n",
    "<hr>\n",
    "Welcome to the workbook for <span style=\"color:royalblue\">Module 2: Data Cleaning</span>! \n",
    "\n",
    "Better data beats better algorithms.\n",
    "* Use this as a \"blueprint\" for efficient data cleaning.\n",
    "* Different types of data will require different types of cleaning.\n",
    "* However, the systematic approach laid out in this module can always be a good starting point.\n",
    "\n",
    "\n",
    "<br><hr id=\"toc\">\n",
    "\n",
    "### In this module...\n",
    "\n",
    "In this module, we'll cover the essential data cleaning steps:\n",
    "1. [Drop unwanted observations](#drop)\n",
    "2. [Fix structural errors](#structural)\n",
    "3. [Remove unwanted outliers](#outliers)\n",
    "4. [Label missing categorical data](#missing-categorical)\n",
    "5. [Flag and fill missing numerical data](#missing-numeric)\n",
    "\n",
    "Finally, we'll save the cleaned dataframe to a new file so we can use it in other modules.\n",
    "\n",
    "<br><hr>"
   ]
  },
  {
   "cell_type": "markdown",
   "metadata": {},
   "source": [
    "### First, let's import libraries and load the dataset.\n",
    "\n",
    "In general, it's good practice to keep all of your library imports at the top of your notebook or program.\n",
    "\n",
    "Before we do anything else, let's import the <code style=\"color:steelblue\">print()</code> function from the future to ensure our code is compatible with Python 3."
   ]
  },
  {
   "cell_type": "code",
   "execution_count": 32,
   "metadata": {},
   "outputs": [
    {
     "name": "stdout",
     "output_type": "stream",
     "text": [
      "Print function ready to serve.\n"
     ]
    }
   ],
   "source": [
    "from __future__ import print_function  # Compatability with Python 3\n",
    "print( 'Print function ready to serve.' )"
   ]
  },
  {
   "cell_type": "markdown",
   "metadata": {},
   "source": [
    "Next, let's import the libraries we'll need for this module."
   ]
  },
  {
   "cell_type": "code",
   "execution_count": 33,
   "metadata": {},
   "outputs": [],
   "source": [
    "import pandas as pd\n",
    "pd.set_option('display.max_columns', 100)\n",
    "\n",
    "import numpy as np\n",
    "\n",
    "from matplotlib import pyplot as plt\n",
    "%matplotlib inline\n",
    "\n",
    "import seaborn as sns"
   ]
  },
  {
   "cell_type": "markdown",
   "metadata": {},
   "source": [
    "Next, let's import the dataset, just as we did in the previous module."
   ]
  },
  {
   "cell_type": "code",
   "execution_count": 34,
   "metadata": {},
   "outputs": [],
   "source": [
    "df = pd.read_csv('project_files/real_estate_data.csv')"
   ]
  },
  {
   "cell_type": "markdown",
   "metadata": {},
   "source": [
    "Now we're ready to jump into cleaning the data!"
   ]
  },
  {
   "cell_type": "markdown",
   "metadata": {},
   "source": [
    "<br id=\"drop\">\n",
    "# 1. Drop unwanted observations\n",
    "\n",
    "The first step to data cleaning is removing unwanted observations from your dataset.\n",
    "\n",
    "<br>\n",
    "First, drop duplicates in your dataframe."
   ]
  },
  {
   "cell_type": "code",
   "execution_count": 35,
   "metadata": {},
   "outputs": [
    {
     "data": {
      "text/plain": [
       "(1883, 26)"
      ]
     },
     "execution_count": 35,
     "metadata": {},
     "output_type": "execute_result"
    }
   ],
   "source": [
    "# Drop duplicates\n",
    "df = df.drop_duplicates()\n",
    "df.shape"
   ]
  },
  {
   "cell_type": "markdown",
   "metadata": {},
   "source": [
    "The dataset has already been filtered to only relevant samples, so we don't need to remove any irrelevant samples.\n",
    "\n",
    "<div style=\"text-align:center; margin: 40px 0 40px 0;\">\n",
    "[**Back to Contents**](#toc)\n",
    "</div>"
   ]
  },
  {
   "cell_type": "markdown",
   "metadata": {},
   "source": [
    "<br id=\"structural\">\n",
    "# 2. Fix structural errors\n",
    "\n",
    "The next bucket under data cleaning involves fixing structural errors. \n",
    "\n",
    "<br>\n",
    "First, display the unique values of the <code style=\"color:steelblue\">'basement'</code> feature."
   ]
  },
  {
   "cell_type": "code",
   "execution_count": 36,
   "metadata": {},
   "outputs": [
    {
     "data": {
      "text/plain": [
       "array([nan,  1.])"
      ]
     },
     "execution_count": 36,
     "metadata": {},
     "output_type": "execute_result"
    }
   ],
   "source": [
    "# Display unique values of 'basement'\n",
    "df['basement'].unique()"
   ]
  },
  {
   "cell_type": "markdown",
   "metadata": {},
   "source": [
    "Fill missing <code style=\"color:steelblue\">'basement'</code> values with the value <code style=\"color:crimson\">0</code> to turn <code style=\"color:steelblue\">'basement'</code> into a true indicator variable."
   ]
  },
  {
   "cell_type": "code",
   "execution_count": 37,
   "metadata": {},
   "outputs": [],
   "source": [
    "# Missing basement values should be 0\n",
    "df['basement'] = df['basement'].fillna(0)"
   ]
  },
  {
   "cell_type": "markdown",
   "metadata": {},
   "source": [
    "Confirm that we have a true indicator variable:"
   ]
  },
  {
   "cell_type": "code",
   "execution_count": 38,
   "metadata": {},
   "outputs": [
    {
     "data": {
      "text/plain": [
       "array([0., 1.])"
      ]
     },
     "execution_count": 38,
     "metadata": {},
     "output_type": "execute_result"
    }
   ],
   "source": [
    "# Display unique values of 'basement'\n",
    "df['basement'].unique()"
   ]
  },
  {
   "cell_type": "markdown",
   "metadata": {},
   "source": [
    "Next, to check for typos or inconsistent capitalization, display all the class distributions for the <code style=\"color:steelblue\">'roof'</code> feature."
   ]
  },
  {
   "cell_type": "code",
   "execution_count": 39,
   "metadata": {
    "scrolled": false
   },
   "outputs": [
    {
     "data": {
      "text/plain": [
       "<matplotlib.axes._subplots.AxesSubplot at 0x116425278>"
      ]
     },
     "execution_count": 39,
     "metadata": {},
     "output_type": "execute_result"
    },
    {
     "data": {
      "image/png": "[encoded data removed]",
      "text/plain": [
       "<matplotlib.figure.Figure at 0x1164b30b8>"
      ]
     },
     "metadata": {},
     "output_type": "display_data"
    }
   ],
   "source": [
    "# Class distributions for 'roof'\n",
    "sns.countplot(y='roof', data=df)"
   ]
  },
  {
   "cell_type": "markdown",
   "metadata": {},
   "source": [
    "Make these changes:\n",
    "* <code style=\"color:crimson\">'composition'</code> should be <code style=\"color:crimson\">'Composition'</code>\n",
    "* <code style=\"color:crimson\">'asphalt'</code> should be <code style=\"color:crimson\">'Asphalt'</code>\n",
    "* <code style=\"color:crimson\">'shake-shingle'</code> should be <code style=\"color:crimson\">'Shake Shingle'</code>\n",
    "* We also might as well change <code style=\"color:crimson\">'asphalt,shake-shingle'</code> to <code style=\"color:crimson\">'Shake Shingle'</code>"
   ]
  },
  {
   "cell_type": "code",
   "execution_count": 40,
   "metadata": {},
   "outputs": [
    {
     "data": {
      "text/plain": [
       "0                        NaN\n",
       "1        Composition Shingle\n",
       "2                        NaN\n",
       "3                        NaN\n",
       "4                        NaN\n",
       "5                        NaN\n",
       "6                        NaN\n",
       "7                        NaN\n",
       "8                        NaN\n",
       "9                        NaN\n",
       "10                       NaN\n",
       "11                       NaN\n",
       "12       Composition Shingle\n",
       "13                       NaN\n",
       "14                       NaN\n",
       "15       Composition Shingle\n",
       "16                       NaN\n",
       "17       Composition Shingle\n",
       "18                       NaN\n",
       "19                       NaN\n",
       "20                       NaN\n",
       "21                       NaN\n",
       "22       Composition Shingle\n",
       "23       Composition Shingle\n",
       "24       Composition Shingle\n",
       "25                       NaN\n",
       "26                       NaN\n",
       "27                       NaN\n",
       "28                       NaN\n",
       "29       Composition Shingle\n",
       "                ...         \n",
       "1853     Composition Shingle\n",
       "1854     Composition Shingle\n",
       "1855     Composition Shingle\n",
       "1856                 Asphalt\n",
       "1857     Composition Shingle\n",
       "1858                     NaN\n",
       "1859     Composition Shingle\n",
       "1860     Composition Shingle\n",
       "1861     Composition Shingle\n",
       "1862                   Other\n",
       "1863    Wood Shake/ Shingles\n",
       "1864     Composition Shingle\n",
       "1865     Composition Shingle\n",
       "1866                 Asphalt\n",
       "1867                   Other\n",
       "1868     Composition Shingle\n",
       "1869     Composition Shingle\n",
       "1870     Composition Shingle\n",
       "1871                   Other\n",
       "1872     Composition Shingle\n",
       "1873    Wood Shake/ Shingles\n",
       "1874     Composition Shingle\n",
       "1875     Composition Shingle\n",
       "1876                     NaN\n",
       "1877     Composition Shingle\n",
       "1878     Composition Shingle\n",
       "1879     Composition Shingle\n",
       "1880     Composition Shingle\n",
       "1881                 Asphalt\n",
       "1882     Composition Shingle\n",
       "Name: roof, Length: 1883, dtype: object"
      ]
     },
     "execution_count": 40,
     "metadata": {},
     "output_type": "execute_result"
    }
   ],
   "source": [
    "# 'composition' should be 'Composition'\n",
    "df['roof'].replace('composition', 'Composition', inplace=True)\n",
    "\n",
    "# 'asphalt' should be 'Asphalt'\n",
    "df['roof'].replace('asphalt', 'Asphalt', inplace=True)\n",
    "\n",
    "\n",
    "# 'shake-shingle' and 'asphalt,shake-shingle' should be 'Shake Shingle'\n",
    "df['roof'].replace(['shake-shingle','asphalt,shake-shingle'], 'Shake Shingle', inplace=True)\n",
    "df['roof']"
   ]
  },
  {
   "cell_type": "markdown",
   "metadata": {},
   "source": [
    "Finally, we'll check for mislabeled classes. Plot the class distributions for <code style=\"color:steelblue\">'exterior_walls'</code>."
   ]
  },
  {
   "cell_type": "code",
   "execution_count": 41,
   "metadata": {},
   "outputs": [
    {
     "data": {
      "text/plain": [
       "<matplotlib.axes._subplots.AxesSubplot at 0x116fe4748>"
      ]
     },
     "execution_count": 41,
     "metadata": {},
     "output_type": "execute_result"
    },
    {
     "data": {
      "image/png": "[encoded data removed]",
      "text/plain": [
       "<matplotlib.figure.Figure at 0x1175a62b0>"
      ]
     },
     "metadata": {},
     "output_type": "display_data"
    }
   ],
   "source": [
    "# Class distributions for 'exterior_walls'\n",
    "sns.countplot(y='exterior_walls', data=df)"
   ]
  },
  {
   "cell_type": "markdown",
   "metadata": {},
   "source": [
    "Let's fix these in the next exercise:\n",
    "* <code style=\"color:crimson\">'Rock, Stone'</code> should be <code style=\"color:crimson\">'Masonry'</code>\n",
    "* <code style=\"color:crimson\">'Concrete'</code> and <code style=\"color:crimson\">'Block'</code> should both just be <code style=\"color:crimson\">'Concrete Block'</code>"
   ]
  },
  {
   "cell_type": "markdown",
   "metadata": {},
   "source": [
    "<br><hr style=\"border-color:royalblue;background-color:royalblue;height:1px;\">\n",
    "## <span style=\"color:RoyalBlue\">Exercise 2.1</span>\n",
    "\n",
    "**First, replace any instances of <code style=\"color:steelblue\">'Rock, Stone'</code> with <code style=\"color:steelblue\">'Masonry'</code> instead.**\n",
    "* Remember to do it inplace."
   ]
  },
  {
   "cell_type": "code",
   "execution_count": 42,
   "metadata": {},
   "outputs": [],
   "source": [
    "# 'Rock, Stone' should be 'Masonry'\n",
    "df['exterior_walls'].replace('Rock, Stone','Masonry', inplace=True)"
   ]
  },
  {
   "cell_type": "markdown",
   "metadata": {},
   "source": [
    "**Next, replace any instances of <code style=\"color:steelblue\">'Concrete'</code> or <code style=\"color:steelblue\">'Block'</code> with <code style=\"color:steelblue\">'Concrete Block'</code> instead.**\n",
    "* Remember to do it inplace."
   ]
  },
  {
   "cell_type": "code",
   "execution_count": 43,
   "metadata": {},
   "outputs": [],
   "source": [
    "# 'Concrete' and 'Block' should be 'Concrete Block'\n",
    "df['exterior_walls'].replace(['Concrete', 'Block'],'Masonry', inplace=True)"
   ]
  },
  {
   "cell_type": "markdown",
   "metadata": {},
   "source": [
    "**Finally, plot the bar plot of <code style=\"color:steelblue\">'exterior_walls'</code> to see its new distribution.**"
   ]
  },
  {
   "cell_type": "code",
   "execution_count": 44,
   "metadata": {},
   "outputs": [
    {
     "data": {
      "text/plain": [
       "<matplotlib.axes._subplots.AxesSubplot at 0x1173cefd0>"
      ]
     },
     "execution_count": 44,
     "metadata": {},
     "output_type": "execute_result"
    },
    {
     "data": {
      "image/png": "[encoded data removed]",
      "text/plain": [
       "<matplotlib.figure.Figure at 0x1168c9b38>"
      ]
     },
     "metadata": {},
     "output_type": "display_data"
    }
   ],
   "source": [
    "# Class distributions for 'exterior_walls'\n",
    "sns.countplot(y='exterior_walls', data=df)"
   ]
  },
  {
   "cell_type": "markdown",
   "metadata": {},
   "source": [
    "<hr style=\"border-color:royalblue;background-color:royalblue;height:1px;\">\n",
    "\n",
    "<div style=\"text-align:center; margin: 40px 0 40px 0;\">\n",
    "[**Back to Contents**](#toc)\n",
    "</div>"
   ]
  },
  {
   "cell_type": "markdown",
   "metadata": {},
   "source": [
    "<br id=\"outliers\">\n",
    "# 3. Remove unwanted outliers\n",
    "\n",
    "Outliers can cause problems with certain types of models.\n",
    "\n",
    "<br>\n",
    "Start with a box plot of your target variable, since that's the variable that you're actually trying to predict."
   ]
  },
  {
   "cell_type": "code",
   "execution_count": null,
   "metadata": {},
   "outputs": [],
   "source": [
    "# Box plot of 'tx_price' using the Seaborn library\n"
   ]
  },
  {
   "cell_type": "markdown",
   "metadata": {},
   "source": [
    "To show more information, make violin plot of transaction price. \n",
    "* What's the difference between box plots and violin plots?"
   ]
  },
  {
   "cell_type": "code",
   "execution_count": null,
   "metadata": {},
   "outputs": [],
   "source": [
    "# Violin plot of 'tx_price' using the Seaborn library\n"
   ]
  },
  {
   "cell_type": "markdown",
   "metadata": {},
   "source": [
    "<br><hr style=\"border-color:royalblue;background-color:royalblue;height:1px;\">\n",
    "## <span style=\"color:RoyalBlue\">Exercise 2.2</span>\n",
    "\n",
    "**Plot the violin plots for <code style=\"color:steelblue\">'beds'</code>, <code style=\"color:steelblue\">'sqft'</code>, and <code style=\"color:steelblue\">'lot_size'</code>.**\n",
    "* **Tip:** If you want to plot multiple charts in the same code cell, remember to separate them by <code style=\"color:steelblue\">plt.show()</code>, or else they will overlap."
   ]
  },
  {
   "cell_type": "code",
   "execution_count": null,
   "metadata": {},
   "outputs": [],
   "source": [
    "# Violin plot of beds\n",
    "\n",
    "\n",
    "# Violin plot of sqft\n",
    "\n",
    "\n",
    "# Violin plot of lot_size\n",
    "\n"
   ]
  },
  {
   "cell_type": "markdown",
   "metadata": {},
   "source": [
    "Among those three features, it looks like <code style=\"color:steelblue\">lot_size</code> has a potential outlier! \n",
    "* Look at its long and skinny tail.\n",
    "* Let's look at the largest 5 lot sizes just to confirm.\n",
    "\n",
    "<br>\n",
    "**Sort <code style=\"color:steelblue\">df.lot_size</code> and display the top 5 samples.**\n",
    "* You can sort a Series with the <code style=\"color:steelblue\">.sort_values()</code> function.\n",
    "* **Tip:** <code style=\"color:steelblue\">.sort_values()</code> has an argument called <code style=\"color:steelblue\">ascending=</code>. By default, it's <code style=\"color:steelblue\">True</code>\n",
    "* **Tip:** You can chain functions together. This exercise can be completed in 1 line of code."
   ]
  },
  {
   "cell_type": "code",
   "execution_count": null,
   "metadata": {},
   "outputs": [],
   "source": [
    "# Sort df.lot_size and display the top 5 samples\n"
   ]
  },
  {
   "cell_type": "markdown",
   "metadata": {},
   "source": [
    "The largest property has a lot_size of 1,220,551 sqft. The next largest has a lot_size of only 436,471 sqft. Holy smokes!\n",
    "\n",
    "Because it's unlikely the REIT will ever invest in properties with lots that large, and because it's the only one in the dataset, let's remove it so it doesn't interfere with our ability to model normal size properties.\n",
    "\n",
    "<br>\n",
    "**Remove observations with <code style=\"color:steelblue\">lot_size</code> greater than 500,000 sqft.**\n",
    "* You can use a boolean mask to do so (filter to keep only wanted observations)\n",
    "* Overwrite the existing <code style=\"color:steelblue\">df</code> object\n",
    "* Print the length of the new <code style=\"color:steelblue\">df</code> object."
   ]
  },
  {
   "cell_type": "code",
   "execution_count": null,
   "metadata": {},
   "outputs": [],
   "source": [
    "# Remove lot_size outliers\n",
    "\n",
    "\n",
    "# print length of df\n"
   ]
  },
  {
   "cell_type": "markdown",
   "metadata": {},
   "source": [
    "<hr style=\"border-color:royalblue;background-color:royalblue;height:1px;\">\n",
    "\n",
    "<div style=\"text-align:center; margin: 40px 0 40px 0;\">\n",
    "[**Back to Contents**](#toc)\n",
    "</div>"
   ]
  },
  {
   "cell_type": "markdown",
   "metadata": {},
   "source": [
    "<br id=\"missing-categorical\">\n",
    "# 4. Label missing categorical data\n",
    "\n",
    "It's finally time to address missing data.\n",
    "\n",
    "<br>\n",
    "First, find and count the missing categorical data."
   ]
  },
  {
   "cell_type": "code",
   "execution_count": null,
   "metadata": {},
   "outputs": [],
   "source": [
    "# Display number of missing values by feature (categorical)\n"
   ]
  },
  {
   "cell_type": "markdown",
   "metadata": {},
   "source": [
    "In the next exercise, we'll write a loop for labeling missing values in all of our categorical features."
   ]
  },
  {
   "cell_type": "markdown",
   "metadata": {},
   "source": [
    "<br><hr style=\"border-color:royalblue;background-color:royalblue;height:1px;\">\n",
    "## <span style=\"color:RoyalBlue\">Exercise 2.3</span>\n",
    "\n",
    "**Write a loop that fills all the missing values for categorical features with the value <code style=\"color:steelblue\">'Missing'</code>.**\n",
    "* **Tip:** There's a shortcut for looping through categorical column names:\n",
    "\n",
    "\n",
    "<pre style=\"color:#bbb\">\n",
    "for column in <strong style=\"color:steelblue\">df.select_dtypes(include=['object'])</strong>:\n",
    "    # code block\n",
    "</pre>"
   ]
  },
  {
   "cell_type": "code",
   "execution_count": null,
   "metadata": {},
   "outputs": [],
   "source": [
    "# Fill missing categorical values\n",
    "\n"
   ]
  },
  {
   "cell_type": "markdown",
   "metadata": {},
   "source": [
    "**Now, display the number of missing values for each categorical feature.**"
   ]
  },
  {
   "cell_type": "code",
   "execution_count": null,
   "metadata": {},
   "outputs": [],
   "source": [
    "# Display number of missing values by feature (categorical)\n",
    "\n"
   ]
  },
  {
   "cell_type": "markdown",
   "metadata": {},
   "source": [
    "<hr style=\"border-color:royalblue;background-color:royalblue;height:1px;\">\n",
    "\n",
    "<div style=\"text-align:center; margin: 40px 0 40px 0;\">\n",
    "[**Back to Contents**](#toc)\n",
    "</div>"
   ]
  },
  {
   "cell_type": "markdown",
   "metadata": {},
   "source": [
    "<br id=\"missing-numeric\">\n",
    "# 5. Flag and fill missing numeric data\n",
    "\n",
    "Finally, let's flag and fill missing numeric data.\n",
    "\n",
    "<br>\n",
    "First, let's find and count missing values in numerical feature."
   ]
  },
  {
   "cell_type": "code",
   "execution_count": null,
   "metadata": {},
   "outputs": [],
   "source": [
    "# Display number of missing values by feature (numeric)\n"
   ]
  },
  {
   "cell_type": "markdown",
   "metadata": {},
   "source": [
    "Well, it looks like we don't have any numerical features with missing values in this dataset.\n",
    "\n",
    "No problem, we'll practice flagging and filling missing numerical values in the next project!\n",
    "\n",
    "<div style=\"text-align:center; margin: 40px 0 40px 0; font-weight:bold\">\n",
    "[**Back to Contents**](#toc)\n",
    "</div>"
   ]
  },
  {
   "cell_type": "markdown",
   "metadata": {},
   "source": [
    "<br>\n",
    "### Finally, let's save the cleaned dataframe.\n",
    "\n",
    "Before we move on to the next module, let's save the new dataframe we worked hard to clean.\n",
    "* We'll use Pandas's <code style=\"color:steelblue\">.to_csv()</code> function.\n",
    "* We set <code style=\"color:steelblue\">index=<span style=\"color:crimson\">None</span></code> so that Pandas drops the indices and only stores the actual data in the CSV."
   ]
  },
  {
   "cell_type": "code",
   "execution_count": null,
   "metadata": {
    "collapsed": true
   },
   "outputs": [],
   "source": [
    "# Save cleaned dataframe to new file\n",
    "df.to_csv('cleaned_df.csv', index=None)"
   ]
  },
  {
   "cell_type": "markdown",
   "metadata": {},
   "source": [
    "Now we can use <code style=\"color:steelblue\">'cleaned_df.csv'</code> in all the other modules!"
   ]
  },
  {
   "cell_type": "markdown",
   "metadata": {},
   "source": [
    "<br>\n",
    "## Next Steps\n",
    "\n",
    "Congratulations for making through Project 2's Data Cleaning module!\n",
    "\n",
    "As a reminder, here are a few things you did in this module:\n",
    "* You confirmed that the dataset doesn't have any duplicate and irrelevant observations.\n",
    "* You fixed various structural errors, such as mislabeled classes.\n",
    "* You removed an outlier after plotting violin plots.\n",
    "* And you labeled missing data in your categorical features.\n",
    "\n",
    "All of this cleaning will be extremely helpful for the remaining modules. In the next module, <span style=\"color:royalblue\">Module 3: Feature Engineering</span>, you'll use your cleaned dataset to create new features that will improve model performance.\n",
    "\n",
    "<div style=\"text-align:center; margin: 40px 0 40px 0; font-weight:bold\">\n",
    "[**Back to Contents**](#toc)\n",
    "</div>"
   ]
  }
 ],
 "metadata": {
  "anaconda-cloud": {},
  "kernelspec": {
   "display_name": "Python 3",
   "language": "python",
   "name": "python3"
  },
  "language_info": {
   "codemirror_mode": {
    "name": "ipython",
    "version": 3
   },
   "file_extension": ".py",
   "mimetype": "text/x-python",
   "name": "python",
   "nbconvert_exporter": "python",
   "pygments_lexer": "ipython3",
   "version": "3.6.4"
  }
 },
 "nbformat": 4,
 "nbformat_minor": 1
}
