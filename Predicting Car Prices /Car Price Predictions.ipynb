{
 "cells": [
  {
   "cell_type": "markdown",
   "metadata": {
    "collapsed": true
   },
   "source": [
    "In this project, we will perform some machine learning  to predict a car's market price using its attributes. The data set that we will be working with contains information on various cars. For each car we have information about the technical aspects of the vehicle such as the motor's displacement, the weight of the car, the miles per gallon, how fast the car accelerates, and more."
   ]
  },
  {
   "cell_type": "code",
   "execution_count": 1,
   "metadata": {
    "collapsed": true
   },
   "outputs": [],
   "source": [
    "import pandas as pd\n",
    "import numpy as np"
   ]
  },
  {
   "cell_type": "code",
   "execution_count": 2,
   "metadata": {
    "collapsed": false
   },
   "outputs": [
    {
     "data": {
      "text/html": [
       "<div>\n",
       "<style scoped>\n",
       "    .dataframe tbody tr th:only-of-type {\n",
       "        vertical-align: middle;\n",
       "    }\n",
       "\n",
       "    .dataframe tbody tr th {\n",
       "        vertical-align: top;\n",
       "    }\n",
       "\n",
       "    .dataframe thead th {\n",
       "        text-align: right;\n",
       "    }\n",
       "</style>\n",
       "<table border=\"1\" class=\"dataframe\">\n",
       "  <thead>\n",
       "    <tr style=\"text-align: right;\">\n",
       "      <th></th>\n",
       "      <th>3</th>\n",
       "      <th>?</th>\n",
       "      <th>alfa-romero</th>\n",
       "      <th>gas</th>\n",
       "      <th>std</th>\n",
       "      <th>two</th>\n",
       "      <th>convertible</th>\n",
       "      <th>rwd</th>\n",
       "      <th>front</th>\n",
       "      <th>88.60</th>\n",
       "      <th>...</th>\n",
       "      <th>130</th>\n",
       "      <th>mpfi</th>\n",
       "      <th>3.47</th>\n",
       "      <th>2.68</th>\n",
       "      <th>9.00</th>\n",
       "      <th>111</th>\n",
       "      <th>5000</th>\n",
       "      <th>21</th>\n",
       "      <th>27</th>\n",
       "      <th>13495</th>\n",
       "    </tr>\n",
       "  </thead>\n",
       "  <tbody>\n",
       "    <tr>\n",
       "      <th>0</th>\n",
       "      <td>3</td>\n",
       "      <td>?</td>\n",
       "      <td>alfa-romero</td>\n",
       "      <td>gas</td>\n",
       "      <td>std</td>\n",
       "      <td>two</td>\n",
       "      <td>convertible</td>\n",
       "      <td>rwd</td>\n",
       "      <td>front</td>\n",
       "      <td>88.6</td>\n",
       "      <td>...</td>\n",
       "      <td>130</td>\n",
       "      <td>mpfi</td>\n",
       "      <td>3.47</td>\n",
       "      <td>2.68</td>\n",
       "      <td>9.0</td>\n",
       "      <td>111</td>\n",
       "      <td>5000</td>\n",
       "      <td>21</td>\n",
       "      <td>27</td>\n",
       "      <td>16500</td>\n",
       "    </tr>\n",
       "    <tr>\n",
       "      <th>1</th>\n",
       "      <td>1</td>\n",
       "      <td>?</td>\n",
       "      <td>alfa-romero</td>\n",
       "      <td>gas</td>\n",
       "      <td>std</td>\n",
       "      <td>two</td>\n",
       "      <td>hatchback</td>\n",
       "      <td>rwd</td>\n",
       "      <td>front</td>\n",
       "      <td>94.5</td>\n",
       "      <td>...</td>\n",
       "      <td>152</td>\n",
       "      <td>mpfi</td>\n",
       "      <td>2.68</td>\n",
       "      <td>3.47</td>\n",
       "      <td>9.0</td>\n",
       "      <td>154</td>\n",
       "      <td>5000</td>\n",
       "      <td>19</td>\n",
       "      <td>26</td>\n",
       "      <td>16500</td>\n",
       "    </tr>\n",
       "    <tr>\n",
       "      <th>2</th>\n",
       "      <td>2</td>\n",
       "      <td>164</td>\n",
       "      <td>audi</td>\n",
       "      <td>gas</td>\n",
       "      <td>std</td>\n",
       "      <td>four</td>\n",
       "      <td>sedan</td>\n",
       "      <td>fwd</td>\n",
       "      <td>front</td>\n",
       "      <td>99.8</td>\n",
       "      <td>...</td>\n",
       "      <td>109</td>\n",
       "      <td>mpfi</td>\n",
       "      <td>3.19</td>\n",
       "      <td>3.40</td>\n",
       "      <td>10.0</td>\n",
       "      <td>102</td>\n",
       "      <td>5500</td>\n",
       "      <td>24</td>\n",
       "      <td>30</td>\n",
       "      <td>13950</td>\n",
       "    </tr>\n",
       "    <tr>\n",
       "      <th>3</th>\n",
       "      <td>2</td>\n",
       "      <td>164</td>\n",
       "      <td>audi</td>\n",
       "      <td>gas</td>\n",
       "      <td>std</td>\n",
       "      <td>four</td>\n",
       "      <td>sedan</td>\n",
       "      <td>4wd</td>\n",
       "      <td>front</td>\n",
       "      <td>99.4</td>\n",
       "      <td>...</td>\n",
       "      <td>136</td>\n",
       "      <td>mpfi</td>\n",
       "      <td>3.19</td>\n",
       "      <td>3.40</td>\n",
       "      <td>8.0</td>\n",
       "      <td>115</td>\n",
       "      <td>5500</td>\n",
       "      <td>18</td>\n",
       "      <td>22</td>\n",
       "      <td>17450</td>\n",
       "    </tr>\n",
       "    <tr>\n",
       "      <th>4</th>\n",
       "      <td>2</td>\n",
       "      <td>?</td>\n",
       "      <td>audi</td>\n",
       "      <td>gas</td>\n",
       "      <td>std</td>\n",
       "      <td>two</td>\n",
       "      <td>sedan</td>\n",
       "      <td>fwd</td>\n",
       "      <td>front</td>\n",
       "      <td>99.8</td>\n",
       "      <td>...</td>\n",
       "      <td>136</td>\n",
       "      <td>mpfi</td>\n",
       "      <td>3.19</td>\n",
       "      <td>3.40</td>\n",
       "      <td>8.5</td>\n",
       "      <td>110</td>\n",
       "      <td>5500</td>\n",
       "      <td>19</td>\n",
       "      <td>25</td>\n",
       "      <td>15250</td>\n",
       "    </tr>\n",
       "  </tbody>\n",
       "</table>\n",
       "<p>5 rows × 26 columns</p>\n",
       "</div>"
      ],
      "text/plain": [
       "   3    ?  alfa-romero  gas  std   two  convertible  rwd  front  88.60  ...    \\\n",
       "0  3    ?  alfa-romero  gas  std   two  convertible  rwd  front   88.6  ...     \n",
       "1  1    ?  alfa-romero  gas  std   two    hatchback  rwd  front   94.5  ...     \n",
       "2  2  164         audi  gas  std  four        sedan  fwd  front   99.8  ...     \n",
       "3  2  164         audi  gas  std  four        sedan  4wd  front   99.4  ...     \n",
       "4  2    ?         audi  gas  std   two        sedan  fwd  front   99.8  ...     \n",
       "\n",
       "   130  mpfi  3.47  2.68  9.00  111  5000  21  27  13495  \n",
       "0  130  mpfi  3.47  2.68   9.0  111  5000  21  27  16500  \n",
       "1  152  mpfi  2.68  3.47   9.0  154  5000  19  26  16500  \n",
       "2  109  mpfi  3.19  3.40  10.0  102  5500  24  30  13950  \n",
       "3  136  mpfi  3.19  3.40   8.0  115  5500  18  22  17450  \n",
       "4  136  mpfi  3.19  3.40   8.5  110  5500  19  25  15250  \n",
       "\n",
       "[5 rows x 26 columns]"
      ]
     },
     "execution_count": 2,
     "metadata": {},
     "output_type": "execute_result"
    }
   ],
   "source": [
    "cars = pd.read_csv('imports-85.data', header=0)\n",
    "cars.head()"
   ]
  },
  {
   "cell_type": "markdown",
   "metadata": {},
   "source": [
    "It looks like this data set does not include column names, so we will have to make them ourselves using the documenation."
   ]
  },
  {
   "cell_type": "code",
   "execution_count": 3,
   "metadata": {
    "collapsed": false
   },
   "outputs": [
    {
     "data": {
      "text/html": [
       "<div>\n",
       "<style scoped>\n",
       "    .dataframe tbody tr th:only-of-type {\n",
       "        vertical-align: middle;\n",
       "    }\n",
       "\n",
       "    .dataframe tbody tr th {\n",
       "        vertical-align: top;\n",
       "    }\n",
       "\n",
       "    .dataframe thead th {\n",
       "        text-align: right;\n",
       "    }\n",
       "</style>\n",
       "<table border=\"1\" class=\"dataframe\">\n",
       "  <thead>\n",
       "    <tr style=\"text-align: right;\">\n",
       "      <th></th>\n",
       "      <th>symboling</th>\n",
       "      <th>normalized-losses</th>\n",
       "      <th>make</th>\n",
       "      <th>fuel-type</th>\n",
       "      <th>aspiration</th>\n",
       "      <th>num-of-doors</th>\n",
       "      <th>body-style</th>\n",
       "      <th>drive-wheels</th>\n",
       "      <th>engine-location</th>\n",
       "      <th>wheel-base</th>\n",
       "      <th>...</th>\n",
       "      <th>engine-size</th>\n",
       "      <th>fuel-system</th>\n",
       "      <th>bore</th>\n",
       "      <th>stroke</th>\n",
       "      <th>compression-rate</th>\n",
       "      <th>horsepower</th>\n",
       "      <th>peak-rpm</th>\n",
       "      <th>city-mpg</th>\n",
       "      <th>highway-mpg</th>\n",
       "      <th>price</th>\n",
       "    </tr>\n",
       "  </thead>\n",
       "  <tbody>\n",
       "    <tr>\n",
       "      <th>0</th>\n",
       "      <td>3</td>\n",
       "      <td>?</td>\n",
       "      <td>alfa-romero</td>\n",
       "      <td>gas</td>\n",
       "      <td>std</td>\n",
       "      <td>two</td>\n",
       "      <td>convertible</td>\n",
       "      <td>rwd</td>\n",
       "      <td>front</td>\n",
       "      <td>88.6</td>\n",
       "      <td>...</td>\n",
       "      <td>130</td>\n",
       "      <td>mpfi</td>\n",
       "      <td>3.47</td>\n",
       "      <td>2.68</td>\n",
       "      <td>9.0</td>\n",
       "      <td>111</td>\n",
       "      <td>5000</td>\n",
       "      <td>21</td>\n",
       "      <td>27</td>\n",
       "      <td>13495</td>\n",
       "    </tr>\n",
       "    <tr>\n",
       "      <th>1</th>\n",
       "      <td>3</td>\n",
       "      <td>?</td>\n",
       "      <td>alfa-romero</td>\n",
       "      <td>gas</td>\n",
       "      <td>std</td>\n",
       "      <td>two</td>\n",
       "      <td>convertible</td>\n",
       "      <td>rwd</td>\n",
       "      <td>front</td>\n",
       "      <td>88.6</td>\n",
       "      <td>...</td>\n",
       "      <td>130</td>\n",
       "      <td>mpfi</td>\n",
       "      <td>3.47</td>\n",
       "      <td>2.68</td>\n",
       "      <td>9.0</td>\n",
       "      <td>111</td>\n",
       "      <td>5000</td>\n",
       "      <td>21</td>\n",
       "      <td>27</td>\n",
       "      <td>16500</td>\n",
       "    </tr>\n",
       "    <tr>\n",
       "      <th>2</th>\n",
       "      <td>1</td>\n",
       "      <td>?</td>\n",
       "      <td>alfa-romero</td>\n",
       "      <td>gas</td>\n",
       "      <td>std</td>\n",
       "      <td>two</td>\n",
       "      <td>hatchback</td>\n",
       "      <td>rwd</td>\n",
       "      <td>front</td>\n",
       "      <td>94.5</td>\n",
       "      <td>...</td>\n",
       "      <td>152</td>\n",
       "      <td>mpfi</td>\n",
       "      <td>2.68</td>\n",
       "      <td>3.47</td>\n",
       "      <td>9.0</td>\n",
       "      <td>154</td>\n",
       "      <td>5000</td>\n",
       "      <td>19</td>\n",
       "      <td>26</td>\n",
       "      <td>16500</td>\n",
       "    </tr>\n",
       "    <tr>\n",
       "      <th>3</th>\n",
       "      <td>2</td>\n",
       "      <td>164</td>\n",
       "      <td>audi</td>\n",
       "      <td>gas</td>\n",
       "      <td>std</td>\n",
       "      <td>four</td>\n",
       "      <td>sedan</td>\n",
       "      <td>fwd</td>\n",
       "      <td>front</td>\n",
       "      <td>99.8</td>\n",
       "      <td>...</td>\n",
       "      <td>109</td>\n",
       "      <td>mpfi</td>\n",
       "      <td>3.19</td>\n",
       "      <td>3.40</td>\n",
       "      <td>10.0</td>\n",
       "      <td>102</td>\n",
       "      <td>5500</td>\n",
       "      <td>24</td>\n",
       "      <td>30</td>\n",
       "      <td>13950</td>\n",
       "    </tr>\n",
       "    <tr>\n",
       "      <th>4</th>\n",
       "      <td>2</td>\n",
       "      <td>164</td>\n",
       "      <td>audi</td>\n",
       "      <td>gas</td>\n",
       "      <td>std</td>\n",
       "      <td>four</td>\n",
       "      <td>sedan</td>\n",
       "      <td>4wd</td>\n",
       "      <td>front</td>\n",
       "      <td>99.4</td>\n",
       "      <td>...</td>\n",
       "      <td>136</td>\n",
       "      <td>mpfi</td>\n",
       "      <td>3.19</td>\n",
       "      <td>3.40</td>\n",
       "      <td>8.0</td>\n",
       "      <td>115</td>\n",
       "      <td>5500</td>\n",
       "      <td>18</td>\n",
       "      <td>22</td>\n",
       "      <td>17450</td>\n",
       "    </tr>\n",
       "  </tbody>\n",
       "</table>\n",
       "<p>5 rows × 26 columns</p>\n",
       "</div>"
      ],
      "text/plain": [
       "   symboling normalized-losses         make fuel-type aspiration num-of-doors  \\\n",
       "0          3                 ?  alfa-romero       gas        std          two   \n",
       "1          3                 ?  alfa-romero       gas        std          two   \n",
       "2          1                 ?  alfa-romero       gas        std          two   \n",
       "3          2               164         audi       gas        std         four   \n",
       "4          2               164         audi       gas        std         four   \n",
       "\n",
       "    body-style drive-wheels engine-location  wheel-base  ...    engine-size  \\\n",
       "0  convertible          rwd           front        88.6  ...            130   \n",
       "1  convertible          rwd           front        88.6  ...            130   \n",
       "2    hatchback          rwd           front        94.5  ...            152   \n",
       "3        sedan          fwd           front        99.8  ...            109   \n",
       "4        sedan          4wd           front        99.4  ...            136   \n",
       "\n",
       "   fuel-system  bore  stroke compression-rate horsepower  peak-rpm city-mpg  \\\n",
       "0         mpfi  3.47    2.68              9.0        111      5000       21   \n",
       "1         mpfi  3.47    2.68              9.0        111      5000       21   \n",
       "2         mpfi  2.68    3.47              9.0        154      5000       19   \n",
       "3         mpfi  3.19    3.40             10.0        102      5500       24   \n",
       "4         mpfi  3.19    3.40              8.0        115      5500       18   \n",
       "\n",
       "  highway-mpg  price  \n",
       "0          27  13495  \n",
       "1          27  16500  \n",
       "2          26  16500  \n",
       "3          30  13950  \n",
       "4          22  17450  \n",
       "\n",
       "[5 rows x 26 columns]"
      ]
     },
     "execution_count": 3,
     "metadata": {},
     "output_type": "execute_result"
    }
   ],
   "source": [
    "columns = ['symboling', 'normalized-losses', 'make', 'fuel-type',\n",
    "        'aspiration', 'num-of-doors', 'body-style', \n",
    "        'drive-wheels', 'engine-location', 'wheel-base', 'length',\n",
    "        'width', 'height', 'curb-weight', 'engine-type', \n",
    "        'num-of-cylinders', 'engine-size', 'fuel-system', 'bore',\n",
    "        'stroke', 'compression-rate', 'horsepower',\n",
    "        'peak-rpm', 'city-mpg', 'highway-mpg', 'price']\n",
    "cars = pd.read_csv('imports-85.data', names=columns)\n",
    "cars.head()"
   ]
  },
  {
   "cell_type": "markdown",
   "metadata": {},
   "source": [
    "Usually we cannot have any missing values if we want to use them for predictive modeling. Based on the data set preview from the last step, we can tell that the \"normalized-losses\" column contains missing values represented by \"?\". Let's replace these values and look for the presence of missing values in other numeric columns. Let's also rescale the values in the numeric columns so they all range from 0 to 1."
   ]
  },
  {
   "cell_type": "code",
   "execution_count": 4,
   "metadata": {
    "collapsed": false
   },
   "outputs": [
    {
     "name": "stdout",
     "output_type": "stream",
     "text": [
      "<class 'pandas.core.frame.DataFrame'>\n",
      "RangeIndex: 205 entries, 0 to 204\n",
      "Data columns (total 26 columns):\n",
      "symboling            205 non-null int64\n",
      "normalized-losses    164 non-null object\n",
      "make                 205 non-null object\n",
      "fuel-type            205 non-null object\n",
      "aspiration           205 non-null object\n",
      "num-of-doors         203 non-null object\n",
      "body-style           205 non-null object\n",
      "drive-wheels         205 non-null object\n",
      "engine-location      205 non-null object\n",
      "wheel-base           205 non-null float64\n",
      "length               205 non-null float64\n",
      "width                205 non-null float64\n",
      "height               205 non-null float64\n",
      "curb-weight          205 non-null int64\n",
      "engine-type          205 non-null object\n",
      "num-of-cylinders     205 non-null object\n",
      "engine-size          205 non-null int64\n",
      "fuel-system          205 non-null object\n",
      "bore                 201 non-null object\n",
      "stroke               201 non-null object\n",
      "compression-rate     205 non-null float64\n",
      "horsepower           203 non-null object\n",
      "peak-rpm             203 non-null object\n",
      "city-mpg             205 non-null int64\n",
      "highway-mpg          205 non-null int64\n",
      "price                201 non-null object\n",
      "dtypes: float64(5), int64(5), object(16)\n",
      "memory usage: 41.7+ KB\n"
     ]
    }
   ],
   "source": [
    "cars = cars.replace('?', np.nan)\n",
    "cars.info()"
   ]
  },
  {
   "cell_type": "code",
   "execution_count": 5,
   "metadata": {
    "collapsed": false
   },
   "outputs": [],
   "source": [
    "cars['horsepower'] = cars['horsepower'].astype(float)"
   ]
  },
  {
   "cell_type": "code",
   "execution_count": 6,
   "metadata": {
    "collapsed": true
   },
   "outputs": [],
   "source": [
    "cars['price'] = cars['price'].astype(float)"
   ]
  },
  {
   "cell_type": "code",
   "execution_count": 7,
   "metadata": {
    "collapsed": false
   },
   "outputs": [],
   "source": [
    "cars['peak-rpm'] = cars['peak-rpm'].astype(float)"
   ]
  },
  {
   "cell_type": "code",
   "execution_count": 8,
   "metadata": {
    "collapsed": false
   },
   "outputs": [],
   "source": [
    "cars['stroke'] = cars['stroke'].astype(float)"
   ]
  },
  {
   "cell_type": "code",
   "execution_count": 9,
   "metadata": {
    "collapsed": false
   },
   "outputs": [],
   "source": [
    "cars['bore'] = cars['bore'].astype(float)"
   ]
  },
  {
   "cell_type": "code",
   "execution_count": 10,
   "metadata": {
    "collapsed": false
   },
   "outputs": [
    {
     "name": "stdout",
     "output_type": "stream",
     "text": [
      "<class 'pandas.core.frame.DataFrame'>\n",
      "RangeIndex: 205 entries, 0 to 204\n",
      "Data columns (total 26 columns):\n",
      "symboling            205 non-null int64\n",
      "normalized-losses    164 non-null object\n",
      "make                 205 non-null object\n",
      "fuel-type            205 non-null object\n",
      "aspiration           205 non-null object\n",
      "num-of-doors         203 non-null object\n",
      "body-style           205 non-null object\n",
      "drive-wheels         205 non-null object\n",
      "engine-location      205 non-null object\n",
      "wheel-base           205 non-null float64\n",
      "length               205 non-null float64\n",
      "width                205 non-null float64\n",
      "height               205 non-null float64\n",
      "curb-weight          205 non-null int64\n",
      "engine-type          205 non-null object\n",
      "num-of-cylinders     205 non-null object\n",
      "engine-size          205 non-null int64\n",
      "fuel-system          205 non-null object\n",
      "bore                 201 non-null float64\n",
      "stroke               201 non-null float64\n",
      "compression-rate     205 non-null float64\n",
      "horsepower           203 non-null float64\n",
      "peak-rpm             203 non-null float64\n",
      "city-mpg             205 non-null int64\n",
      "highway-mpg          205 non-null int64\n",
      "price                201 non-null float64\n",
      "dtypes: float64(10), int64(5), object(11)\n",
      "memory usage: 41.7+ KB\n"
     ]
    }
   ],
   "source": [
    "cars.info()"
   ]
  },
  {
   "cell_type": "markdown",
   "metadata": {},
   "source": [
    "Now let's examine whether we should drop or replace any NaNs or drop any columns.  We'll also try to filter the data set so that we have only continuous features, for the sake of simplicity."
   ]
  },
  {
   "cell_type": "code",
   "execution_count": 11,
   "metadata": {
    "collapsed": false
   },
   "outputs": [
    {
     "data": {
      "text/plain": [
       "0      NaN\n",
       "1      NaN\n",
       "2      NaN\n",
       "3      164\n",
       "4      164\n",
       "5      NaN\n",
       "6      158\n",
       "7      NaN\n",
       "8      158\n",
       "9      NaN\n",
       "10     192\n",
       "11     192\n",
       "12     188\n",
       "13     188\n",
       "14     NaN\n",
       "15     NaN\n",
       "16     NaN\n",
       "17     NaN\n",
       "18     121\n",
       "19      98\n",
       "20      81\n",
       "21     118\n",
       "22     118\n",
       "23     118\n",
       "24     148\n",
       "25     148\n",
       "26     148\n",
       "27     148\n",
       "28     110\n",
       "29     145\n",
       "      ... \n",
       "175     65\n",
       "176     65\n",
       "177     65\n",
       "178    197\n",
       "179    197\n",
       "180     90\n",
       "181    NaN\n",
       "182    122\n",
       "183    122\n",
       "184     94\n",
       "185     94\n",
       "186     94\n",
       "187     94\n",
       "188     94\n",
       "189    NaN\n",
       "190    256\n",
       "191    NaN\n",
       "192    NaN\n",
       "193    NaN\n",
       "194    103\n",
       "195     74\n",
       "196    103\n",
       "197     74\n",
       "198    103\n",
       "199     74\n",
       "200     95\n",
       "201     95\n",
       "202     95\n",
       "203     95\n",
       "204     95\n",
       "Name: normalized-losses, Length: 205, dtype: object"
      ]
     },
     "execution_count": 11,
     "metadata": {},
     "output_type": "execute_result"
    }
   ],
   "source": [
    "cars['normalized-losses']"
   ]
  },
  {
   "cell_type": "code",
   "execution_count": 12,
   "metadata": {
    "collapsed": false
   },
   "outputs": [],
   "source": [
    "con_cars = cars.drop(['normalized-losses','make','fuel-type',\n",
    "             'aspiration','num-of-doors','engine-type','num-of-cylinders',\n",
    "             'body-style','drive-wheels','engine-location','fuel-system'], axis=1)"
   ]
  },
  {
   "cell_type": "code",
   "execution_count": 13,
   "metadata": {
    "collapsed": false
   },
   "outputs": [
    {
     "name": "stdout",
     "output_type": "stream",
     "text": [
      "<class 'pandas.core.frame.DataFrame'>\n",
      "RangeIndex: 205 entries, 0 to 204\n",
      "Data columns (total 15 columns):\n",
      "symboling           205 non-null int64\n",
      "wheel-base          205 non-null float64\n",
      "length              205 non-null float64\n",
      "width               205 non-null float64\n",
      "height              205 non-null float64\n",
      "curb-weight         205 non-null int64\n",
      "engine-size         205 non-null int64\n",
      "bore                201 non-null float64\n",
      "stroke              201 non-null float64\n",
      "compression-rate    205 non-null float64\n",
      "horsepower          203 non-null float64\n",
      "peak-rpm            203 non-null float64\n",
      "city-mpg            205 non-null int64\n",
      "highway-mpg         205 non-null int64\n",
      "price               201 non-null float64\n",
      "dtypes: float64(10), int64(5)\n",
      "memory usage: 24.1 KB\n"
     ]
    }
   ],
   "source": [
    "con_cars.info()"
   ]
  },
  {
   "cell_type": "code",
   "execution_count": 14,
   "metadata": {
    "collapsed": false
   },
   "outputs": [
    {
     "name": "stdout",
     "output_type": "stream",
     "text": [
      "<class 'pandas.core.frame.DataFrame'>\n",
      "Int64Index: 201 entries, 0 to 204\n",
      "Data columns (total 15 columns):\n",
      "symboling           201 non-null int64\n",
      "wheel-base          201 non-null float64\n",
      "length              201 non-null float64\n",
      "width               201 non-null float64\n",
      "height              201 non-null float64\n",
      "curb-weight         201 non-null int64\n",
      "engine-size         201 non-null int64\n",
      "bore                197 non-null float64\n",
      "stroke              197 non-null float64\n",
      "compression-rate    201 non-null float64\n",
      "horsepower          199 non-null float64\n",
      "peak-rpm            199 non-null float64\n",
      "city-mpg            201 non-null int64\n",
      "highway-mpg         201 non-null int64\n",
      "price               201 non-null float64\n",
      "dtypes: float64(10), int64(5)\n",
      "memory usage: 25.1 KB\n"
     ]
    }
   ],
   "source": [
    "con_cars.dropna(subset=['price']).info()"
   ]
  },
  {
   "cell_type": "code",
   "execution_count": 15,
   "metadata": {
    "collapsed": false
   },
   "outputs": [
    {
     "name": "stdout",
     "output_type": "stream",
     "text": [
      "<class 'pandas.core.frame.DataFrame'>\n",
      "Int64Index: 201 entries, 0 to 204\n",
      "Data columns (total 15 columns):\n",
      "symboling           201 non-null int64\n",
      "wheel-base          201 non-null float64\n",
      "length              201 non-null float64\n",
      "width               201 non-null float64\n",
      "height              201 non-null float64\n",
      "curb-weight         201 non-null int64\n",
      "engine-size         201 non-null int64\n",
      "bore                201 non-null float64\n",
      "stroke              201 non-null float64\n",
      "compression-rate    201 non-null float64\n",
      "horsepower          201 non-null float64\n",
      "peak-rpm            201 non-null float64\n",
      "city-mpg            201 non-null int64\n",
      "highway-mpg         201 non-null int64\n",
      "price               201 non-null float64\n",
      "dtypes: float64(10), int64(5)\n",
      "memory usage: 25.1 KB\n"
     ]
    }
   ],
   "source": [
    "con_cars = con_cars.dropna(subset=['price'])\n",
    "con_cars.fillna(con_cars.mean()).info()"
   ]
  },
  {
   "cell_type": "code",
   "execution_count": 16,
   "metadata": {
    "collapsed": false
   },
   "outputs": [
    {
     "data": {
      "text/plain": [
       "symboling           0\n",
       "wheel-base          0\n",
       "length              0\n",
       "width               0\n",
       "height              0\n",
       "curb-weight         0\n",
       "engine-size         0\n",
       "bore                0\n",
       "stroke              0\n",
       "compression-rate    0\n",
       "horsepower          0\n",
       "peak-rpm            0\n",
       "city-mpg            0\n",
       "highway-mpg         0\n",
       "price               0\n",
       "dtype: int64"
      ]
     },
     "execution_count": 16,
     "metadata": {},
     "output_type": "execute_result"
    }
   ],
   "source": [
    "con_cars = con_cars.fillna(con_cars.mean())\n",
    "con_cars.isnull().sum()"
   ]
  },
  {
   "cell_type": "markdown",
   "metadata": {},
   "source": [
    "We have now filtered the data set of all null values and non-continuous features.  Now let's try to rescale all of the remaining values using a min-max normalization."
   ]
  },
  {
   "cell_type": "code",
   "execution_count": 17,
   "metadata": {
    "collapsed": false
   },
   "outputs": [
    {
     "data": {
      "text/html": [
       "<div>\n",
       "<style scoped>\n",
       "    .dataframe tbody tr th:only-of-type {\n",
       "        vertical-align: middle;\n",
       "    }\n",
       "\n",
       "    .dataframe tbody tr th {\n",
       "        vertical-align: top;\n",
       "    }\n",
       "\n",
       "    .dataframe thead th {\n",
       "        text-align: right;\n",
       "    }\n",
       "</style>\n",
       "<table border=\"1\" class=\"dataframe\">\n",
       "  <thead>\n",
       "    <tr style=\"text-align: right;\">\n",
       "      <th></th>\n",
       "      <th>symboling</th>\n",
       "      <th>wheel-base</th>\n",
       "      <th>length</th>\n",
       "      <th>width</th>\n",
       "      <th>height</th>\n",
       "      <th>curb-weight</th>\n",
       "      <th>engine-size</th>\n",
       "      <th>bore</th>\n",
       "      <th>stroke</th>\n",
       "      <th>compression-rate</th>\n",
       "      <th>horsepower</th>\n",
       "      <th>peak-rpm</th>\n",
       "      <th>city-mpg</th>\n",
       "      <th>highway-mpg</th>\n",
       "      <th>price</th>\n",
       "    </tr>\n",
       "  </thead>\n",
       "  <tbody>\n",
       "    <tr>\n",
       "      <th>0</th>\n",
       "      <td>1.0</td>\n",
       "      <td>0.058309</td>\n",
       "      <td>0.413433</td>\n",
       "      <td>0.324786</td>\n",
       "      <td>0.083333</td>\n",
       "      <td>0.411171</td>\n",
       "      <td>0.260377</td>\n",
       "      <td>0.664286</td>\n",
       "      <td>0.290476</td>\n",
       "      <td>0.1250</td>\n",
       "      <td>0.294393</td>\n",
       "      <td>0.346939</td>\n",
       "      <td>0.222222</td>\n",
       "      <td>0.289474</td>\n",
       "      <td>13495.0</td>\n",
       "    </tr>\n",
       "    <tr>\n",
       "      <th>1</th>\n",
       "      <td>1.0</td>\n",
       "      <td>0.058309</td>\n",
       "      <td>0.413433</td>\n",
       "      <td>0.324786</td>\n",
       "      <td>0.083333</td>\n",
       "      <td>0.411171</td>\n",
       "      <td>0.260377</td>\n",
       "      <td>0.664286</td>\n",
       "      <td>0.290476</td>\n",
       "      <td>0.1250</td>\n",
       "      <td>0.294393</td>\n",
       "      <td>0.346939</td>\n",
       "      <td>0.222222</td>\n",
       "      <td>0.289474</td>\n",
       "      <td>16500.0</td>\n",
       "    </tr>\n",
       "    <tr>\n",
       "      <th>2</th>\n",
       "      <td>0.6</td>\n",
       "      <td>0.230321</td>\n",
       "      <td>0.449254</td>\n",
       "      <td>0.444444</td>\n",
       "      <td>0.383333</td>\n",
       "      <td>0.517843</td>\n",
       "      <td>0.343396</td>\n",
       "      <td>0.100000</td>\n",
       "      <td>0.666667</td>\n",
       "      <td>0.1250</td>\n",
       "      <td>0.495327</td>\n",
       "      <td>0.346939</td>\n",
       "      <td>0.166667</td>\n",
       "      <td>0.263158</td>\n",
       "      <td>16500.0</td>\n",
       "    </tr>\n",
       "    <tr>\n",
       "      <th>3</th>\n",
       "      <td>0.8</td>\n",
       "      <td>0.384840</td>\n",
       "      <td>0.529851</td>\n",
       "      <td>0.504274</td>\n",
       "      <td>0.541667</td>\n",
       "      <td>0.329325</td>\n",
       "      <td>0.181132</td>\n",
       "      <td>0.464286</td>\n",
       "      <td>0.633333</td>\n",
       "      <td>0.1875</td>\n",
       "      <td>0.252336</td>\n",
       "      <td>0.551020</td>\n",
       "      <td>0.305556</td>\n",
       "      <td>0.368421</td>\n",
       "      <td>13950.0</td>\n",
       "    </tr>\n",
       "    <tr>\n",
       "      <th>4</th>\n",
       "      <td>0.8</td>\n",
       "      <td>0.373178</td>\n",
       "      <td>0.529851</td>\n",
       "      <td>0.521368</td>\n",
       "      <td>0.541667</td>\n",
       "      <td>0.518231</td>\n",
       "      <td>0.283019</td>\n",
       "      <td>0.464286</td>\n",
       "      <td>0.633333</td>\n",
       "      <td>0.0625</td>\n",
       "      <td>0.313084</td>\n",
       "      <td>0.551020</td>\n",
       "      <td>0.138889</td>\n",
       "      <td>0.157895</td>\n",
       "      <td>17450.0</td>\n",
       "    </tr>\n",
       "  </tbody>\n",
       "</table>\n",
       "</div>"
      ],
      "text/plain": [
       "   symboling  wheel-base    length     width    height  curb-weight  \\\n",
       "0        1.0    0.058309  0.413433  0.324786  0.083333     0.411171   \n",
       "1        1.0    0.058309  0.413433  0.324786  0.083333     0.411171   \n",
       "2        0.6    0.230321  0.449254  0.444444  0.383333     0.517843   \n",
       "3        0.8    0.384840  0.529851  0.504274  0.541667     0.329325   \n",
       "4        0.8    0.373178  0.529851  0.521368  0.541667     0.518231   \n",
       "\n",
       "   engine-size      bore    stroke  compression-rate  horsepower  peak-rpm  \\\n",
       "0     0.260377  0.664286  0.290476            0.1250    0.294393  0.346939   \n",
       "1     0.260377  0.664286  0.290476            0.1250    0.294393  0.346939   \n",
       "2     0.343396  0.100000  0.666667            0.1250    0.495327  0.346939   \n",
       "3     0.181132  0.464286  0.633333            0.1875    0.252336  0.551020   \n",
       "4     0.283019  0.464286  0.633333            0.0625    0.313084  0.551020   \n",
       "\n",
       "   city-mpg  highway-mpg    price  \n",
       "0  0.222222     0.289474  13495.0  \n",
       "1  0.222222     0.289474  16500.0  \n",
       "2  0.166667     0.263158  16500.0  \n",
       "3  0.305556     0.368421  13950.0  \n",
       "4  0.138889     0.157895  17450.0  "
      ]
     },
     "execution_count": 17,
     "metadata": {},
     "output_type": "execute_result"
    }
   ],
   "source": [
    "price_col = con_cars['price']\n",
    "con_cars = (con_cars - con_cars.min())/(con_cars.max() - con_cars.min())\n",
    "con_cars['price'] = price_col\n",
    "con_cars.head()"
   ]
  },
  {
   "cell_type": "markdown",
   "metadata": {},
   "source": [
    "We have preserved the original prices as those will be our target values.\n",
    "\n",
    "Now we will start building some models.  We will start with simple univariate models using a 75/25 train-test split."
   ]
  },
  {
   "cell_type": "code",
   "execution_count": 18,
   "metadata": {
    "collapsed": false
   },
   "outputs": [],
   "source": [
    "from sklearn.neighbors import KNeighborsRegressor\n",
    "from sklearn.metrics import mean_squared_error"
   ]
  },
  {
   "cell_type": "code",
   "execution_count": 19,
   "metadata": {
    "collapsed": true
   },
   "outputs": [],
   "source": [
    "def knn_train_test(df, training_col, target_col):\n",
    "    #shuffling the data set\n",
    "    shuffle = np.random.permutation(df.index)\n",
    "    rand_df = df.reindex(shuffle)\n",
    "    \n",
    "    train_df = rand_df.iloc[:int(len(df) * 0.75)]\n",
    "    test_df = rand_df.iloc[int(len(df) * 0.75):]\n",
    "    knn = KNeighborsRegressor()\n",
    "    knn.fit(train_df[[training_col]], train_df[target_col])\n",
    "    predictions = knn.predict(test_df[[training_col]])\n",
    "    return np.sqrt(mean_squared_error(predictions, test_df[target_col]))"
   ]
  },
  {
   "cell_type": "markdown",
   "metadata": {},
   "source": [
    "We will start by trying to predict car prices based on each of a car's horsepower, city MPG, and highway MPG."
   ]
  },
  {
   "cell_type": "code",
   "execution_count": 20,
   "metadata": {
    "collapsed": false
   },
   "outputs": [
    {
     "name": "stdout",
     "output_type": "stream",
     "text": [
      "3099.657412315995 4095.779664914778 3186.012256540067\n"
     ]
    }
   ],
   "source": [
    "horsepower_rmse = knn_train_test(con_cars, 'horsepower', 'price')\n",
    "citympg_rmse = knn_train_test(con_cars, 'city-mpg', 'price')\n",
    "hwmpg_rmse = knn_train_test(con_cars, 'highway-mpg', 'price')\n",
    "\n",
    "print(horsepower_rmse, citympg_rmse, hwmpg_rmse)"
   ]
  },
  {
   "cell_type": "markdown",
   "metadata": {},
   "source": [
    "This shows us that our model training function is working properly and that our RMSEs are in the expected range.  Now let's train a model on each feature in the data set."
   ]
  },
  {
   "cell_type": "code",
   "execution_count": 21,
   "metadata": {
    "collapsed": false
   },
   "outputs": [
    {
     "data": {
      "text/plain": [
       "engine-size         3449.848410\n",
       "width               3595.926264\n",
       "horsepower          4529.799058\n",
       "city-mpg            4651.444892\n",
       "curb-weight         4711.033213\n",
       "highway-mpg         4782.577550\n",
       "wheel-base          5473.126341\n",
       "compression-rate    5946.882504\n",
       "bore                6244.918987\n",
       "length              6854.169615\n",
       "peak-rpm            7213.766338\n",
       "height              7862.214600\n",
       "stroke              8113.529648\n",
       "symboling           8933.546505\n",
       "dtype: float64"
      ]
     },
     "execution_count": 21,
     "metadata": {},
     "output_type": "execute_result"
    }
   ],
   "source": [
    "training_cols = con_cars.drop('price', axis=1).columns\n",
    "rmses = {}\n",
    "\n",
    "for column in training_cols:\n",
    "    rmses[column] = knn_train_test(con_cars, column, 'price')\n",
    "\n",
    "rmses_series = pd.Series(rmses)\n",
    "rmses_series.sort_values()"
   ]
  },
  {
   "cell_type": "markdown",
   "metadata": {},
   "source": [
    "One thing that we can note immediately is the high variance of these models; comparing the three models that we trained before to the three models that we have just trained using the same input features, the RMSEs vary considerably.  We will try to tweak these models right now by editing our function above with a new hyperparameter to tune the K-value."
   ]
  },
  {
   "cell_type": "code",
   "execution_count": 22,
   "metadata": {
    "collapsed": true
   },
   "outputs": [],
   "source": [
    "def knn_train_test(df, training_col, target_col, k):\n",
    "    #shuffling the data set\n",
    "    shuffle = np.random.permutation(df.index)\n",
    "    rand_df = df.reindex(shuffle)\n",
    "    \n",
    "    train_df = rand_df.iloc[:int(len(df) * 0.75)]\n",
    "    test_df = rand_df.iloc[int(len(df) * 0.75):]\n",
    "    knn = KNeighborsRegressor(n_neighbors=k)\n",
    "    knn.fit(train_df[[training_col]], train_df[target_col])\n",
    "    predictions = knn.predict(test_df[[training_col]])\n",
    "    return np.sqrt(mean_squared_error(predictions, test_df[target_col]))"
   ]
  },
  {
   "cell_type": "code",
   "execution_count": 29,
   "metadata": {
    "collapsed": false
   },
   "outputs": [
    {
     "data": {
      "text/plain": [
       "{'bore': OrderedDict([(1, 6827.951118057908),\n",
       "              (3, 5321.469291100156),\n",
       "              (5, 6576.545701023224),\n",
       "              (7, 8472.540473271785),\n",
       "              (9, 7243.900166293052)]),\n",
       " 'city-mpg': OrderedDict([(1, 4702.164682981908),\n",
       "              (3, 3746.048660448607),\n",
       "              (5, 3875.2857529047665),\n",
       "              (7, 4264.0189292463965),\n",
       "              (9, 4342.484440579928)]),\n",
       " 'compression-rate': OrderedDict([(1, 8065.237738858894),\n",
       "              (3, 7308.827525640777),\n",
       "              (5, 6302.950148533777),\n",
       "              (7, 7219.661726215181),\n",
       "              (9, 6671.200683927777)]),\n",
       " 'curb-weight': OrderedDict([(1, 5466.054949036128),\n",
       "              (3, 4904.293739447981),\n",
       "              (5, 5163.766637168769),\n",
       "              (7, 4835.36251785444),\n",
       "              (9, 3774.642878675377)]),\n",
       " 'engine-size': OrderedDict([(1, 3742.1612477178974),\n",
       "              (3, 3384.7705070832967),\n",
       "              (5, 3678.798578713586),\n",
       "              (7, 3486.916629492654),\n",
       "              (9, 3553.048059067875)]),\n",
       " 'height': OrderedDict([(1, 8103.713247157556),\n",
       "              (3, 7951.2163064297265),\n",
       "              (5, 9240.525870614194),\n",
       "              (7, 10761.319168805521),\n",
       "              (9, 7306.362985972479)]),\n",
       " 'highway-mpg': OrderedDict([(1, 5086.185345870618),\n",
       "              (3, 4158.414693167168),\n",
       "              (5, 4480.60204323079),\n",
       "              (7, 3659.660512455571),\n",
       "              (9, 5448.548868301865)]),\n",
       " 'horsepower': OrderedDict([(1, 3794.1731202815017),\n",
       "              (3, 3633.8778589982417),\n",
       "              (5, 4367.6112713077955),\n",
       "              (7, 4606.784481577565),\n",
       "              (9, 4056.4007052352545)]),\n",
       " 'length': OrderedDict([(1, 6782.001879253358),\n",
       "              (3, 4174.011697304821),\n",
       "              (5, 6551.862336890835),\n",
       "              (7, 5318.371152174781),\n",
       "              (9, 4685.211009685388)]),\n",
       " 'peak-rpm': OrderedDict([(1, 8695.629423936565),\n",
       "              (3, 8810.617116640291),\n",
       "              (5, 9416.42332998107),\n",
       "              (7, 7673.456605761982),\n",
       "              (9, 7800.03707546322)]),\n",
       " 'stroke': OrderedDict([(1, 5718.283399693975),\n",
       "              (3, 4965.482279713875),\n",
       "              (5, 7546.109683907903),\n",
       "              (7, 9018.49712296582),\n",
       "              (9, 7275.942374143482)]),\n",
       " 'symboling': OrderedDict([(1, 8254.321553812008),\n",
       "              (3, 7287.773396180351),\n",
       "              (5, 7297.137409084389),\n",
       "              (7, 6814.410536736489),\n",
       "              (9, 7199.3361069462135)]),\n",
       " 'wheel-base': OrderedDict([(1, 4318.415270788625),\n",
       "              (3, 4710.80626711336),\n",
       "              (5, 5730.028560925296),\n",
       "              (7, 7380.826808058039),\n",
       "              (9, 6134.919713636197)]),\n",
       " 'width': OrderedDict([(1, 3871.798692810237),\n",
       "              (3, 4031.8597745742677),\n",
       "              (5, 3840.5336026314335),\n",
       "              (7, 4307.290699600892),\n",
       "              (9, 5094.738193705954)])}"
      ]
     },
     "execution_count": 29,
     "metadata": {},
     "output_type": "execute_result"
    }
   ],
   "source": [
    "from collections import OrderedDict\n",
    "training_cols = con_cars.drop('price', axis=1).columns\n",
    "rmses = {}\n",
    "ks = [1,3,5,7,9]\n",
    "\n",
    "for column in training_cols:\n",
    "    rmses[column] = OrderedDict()\n",
    "for column in training_cols:    \n",
    "    for k in ks:\n",
    "        rmses[column][k] = knn_train_test(con_cars, column, 'price', k)\n",
    "\n",
    "rmses"
   ]
  },
  {
   "cell_type": "code",
   "execution_count": 30,
   "metadata": {
    "collapsed": false
   },
   "outputs": [
    {
     "data": {
      "image/png": "[encoded data removed]",
      "text/plain": [
       "<matplotlib.figure.Figure at 0x7f3976543940>"
      ]
     },
     "metadata": {},
     "output_type": "display_data"
    }
   ],
   "source": [
    "import matplotlib.pyplot as plt\n",
    "%matplotlib inline\n",
    "\n",
    "for k,v in rmses.items():\n",
    "    x = list(v.keys())\n",
    "    y = list(v.values())\n",
    "    \n",
    "    plt.plot(x,y)\n",
    "    plt.xlabel('K-Value')\n",
    "    plt.ylabel('RMSE')"
   ]
  },
  {
   "cell_type": "markdown",
   "metadata": {
    "collapsed": true
   },
   "source": [
    "It looks like some K-values along with certain features can deliver better results than other K/feature pairs.\n",
    "\n",
    "Now let's try building some multivariate models.  We will build four models, each increasing in input features."
   ]
  },
  {
   "cell_type": "code",
   "execution_count": 35,
   "metadata": {
    "collapsed": true
   },
   "outputs": [],
   "source": [
    "def knn_train_test(df, training_cols, target_col, k=3):\n",
    "    #shuffling the data set\n",
    "    shuffle = np.random.permutation(df.index)\n",
    "    rand_df = df.reindex(shuffle)\n",
    "    \n",
    "    train_df = rand_df.iloc[:int(len(df) * 0.75)]\n",
    "    test_df = rand_df.iloc[int(len(df) * 0.75):]\n",
    "    knn = KNeighborsRegressor()\n",
    "    knn.fit(train_df[training_cols], train_df[target_col])\n",
    "    predictions = knn.predict(test_df[training_cols])\n",
    "    return np.sqrt(mean_squared_error(predictions, test_df[target_col]))"
   ]
  },
  {
   "cell_type": "code",
   "execution_count": 34,
   "metadata": {
    "collapsed": false
   },
   "outputs": [
    {
     "name": "stdout",
     "output_type": "stream",
     "text": [
      "3079.5755552972414 3476.683101609867 3538.3492032191466 3087.7454282702647\n"
     ]
    }
   ],
   "source": [
    "two_rmse = knn_train_test(con_cars, ['engine-size','city-mpg'],'price')\n",
    "three_rmse = knn_train_test(con_cars, ['engine-size','city-mpg','horsepower'],'price')\n",
    "four_rmse = knn_train_test(con_cars, ['width','city-mpg','horsepower','width'],'price')\n",
    "five_rmse = knn_train_test(con_cars, ['width','city-mpg','horsepower','width','highway-mpg'],'price')\n",
    "\n",
    "print(two_rmse,three_rmse,four_rmse,five_rmse)"
   ]
  },
  {
   "cell_type": "markdown",
   "metadata": {},
   "source": [
    "Interestingly, the two-feature model had the lowest RMSE using engine size and city MPG as inputs, but the RMSE increased with the three- and four-feature models, and then finally decreased again significantly with the five-feature model, where we added highway MPG.  This could suggest that highway MPG is more correlated to the price than either horsepower or width.\n",
    "\n",
    "Let's try to optimize those two models by varying the K-value."
   ]
  },
  {
   "cell_type": "code",
   "execution_count": 36,
   "metadata": {
    "collapsed": false
   },
   "outputs": [
    {
     "data": {
      "text/plain": [
       "<matplotlib.text.Text at 0x7f3976886390>"
      ]
     },
     "execution_count": 36,
     "metadata": {},
     "output_type": "execute_result"
    },
    {
     "data": {
      "image/png": "[encoded data removed]",
      "text/plain": [
       "<matplotlib.figure.Figure at 0x7f39765a89e8>"
      ]
     },
     "metadata": {},
     "output_type": "display_data"
    }
   ],
   "source": [
    "rmses_two = [knn_train_test(con_cars, ['engine-size','city-mpg'], 'price', i) for i in range(1,26)]\n",
    "rmses_five = [knn_train_test(con_cars, ['width','city-mpg','horsepower','width','highway-mpg'], 'price', i) for i in range(1,26)]\n",
    "\n",
    "x = [x for x in range(1,26)]\n",
    "plt.plot(x, rmses_two)\n",
    "plt.plot(x, rmses_five)\n",
    "plt.xlabel('K-Value')\n",
    "plt.ylabel('RMSE')"
   ]
  },
  {
   "cell_type": "markdown",
   "metadata": {},
   "source": [
    "One model seems to perform well at a K-value of 11 or 19, but the other seems to perform best at only 21.  This could be due to the number of significant features being different between the two; the more significant features are used for training, the lower the K-value can be, presumably."
   ]
  },
  {
   "cell_type": "code",
   "execution_count": null,
   "metadata": {
    "collapsed": true
   },
   "outputs": [],
   "source": []
  }
 ],
 "metadata": {
  "kernelspec": {
   "display_name": "Python 3",
   "language": "python",
   "name": "python3"
  },
  "language_info": {
   "codemirror_mode": {
    "name": "ipython",
    "version": 3
   },
   "file_extension": ".py",
   "mimetype": "text/x-python",
   "name": "python",
   "nbconvert_exporter": "python",
   "pygments_lexer": "ipython3",
   "version": "3.4.3"
  }
 },
 "nbformat": 4,
 "nbformat_minor": 2
}
